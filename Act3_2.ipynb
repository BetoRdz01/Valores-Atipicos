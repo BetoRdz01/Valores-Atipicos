{
  "nbformat": 4,
  "nbformat_minor": 0,
  "metadata": {
    "colab": {
      "provenance": [],
      "authorship_tag": "ABX9TyPgU6KKsOP5bUSbSyWYxvlq",
      "include_colab_link": true
    },
    "kernelspec": {
      "name": "python3",
      "display_name": "Python 3"
    },
    "language_info": {
      "name": "python"
    }
  },
  "cells": [
    {
      "cell_type": "markdown",
      "metadata": {
        "id": "view-in-github",
        "colab_type": "text"
      },
      "source": [
        "<a href=\"https://colab.research.google.com/github/BetoRdz01/Valores-Atipicos/blob/main/Act3_2.ipynb\" target=\"_parent\"><img src=\"https://colab.research.google.com/assets/colab-badge.svg\" alt=\"Open In Colab\"/></a>"
      ]
    },
    {
      "cell_type": "markdown",
      "source": [
        "# **Actividad 3.2: Valores Atípicos por Dataframe**\n",
        "Alberto Rodríguez Porras | A01721497\n"
      ],
      "metadata": {
        "id": "T11Z4soKpMyq"
      }
    },
    {
      "cell_type": "code",
      "source": [
        "import pandas as pd\n",
        "import numpy as np\n",
        "import matplotlib.pyplot as plt"
      ],
      "metadata": {
        "id": "EyAOCO6ipbzy"
      },
      "execution_count": 55,
      "outputs": []
    },
    {
      "cell_type": "code",
      "source": [
        "gc0 = pd.read_csv('gastos_costos_2020.csv')\n",
        "gc1 = pd.read_csv('gastos_costos_2021.csv')\n",
        "gc2 = pd.read_csv('gastos_costos_2022.csv')\n",
        "gc3 = pd.read_csv('gastos_costos_2023.csv')"
      ],
      "metadata": {
        "id": "toRFFqgdp0uD"
      },
      "execution_count": 56,
      "outputs": []
    },
    {
      "cell_type": "code",
      "source": [
        "gc0.head()"
      ],
      "metadata": {
        "colab": {
          "base_uri": "https://localhost:8080/",
          "height": 548
        },
        "id": "33C6sQTtsDKJ",
        "outputId": "264eac2e-0b9d-4303-9120-8945413be3e0"
      },
      "execution_count": 57,
      "outputs": [
        {
          "output_type": "execute_result",
          "data": {
            "text/plain": [
              "   Unnamed: 0       FECHA                FOLIO  \\\n",
              "0           0  2020-01-01                39408   \n",
              "1           1  2020-01-01  1010100750847110016   \n",
              "2           2  2020-01-01  1010100752163709952   \n",
              "3           3  2020-01-01                 3663   \n",
              "4           4  2020-01-01                 2849   \n",
              "\n",
              "                                   UUID           RFC  \\\n",
              "0  BD20F436-72CC-4BE2-AD37-5999D71AA391  ARE080115PBA   \n",
              "1  85AEAC2E-6395-44A0-9CB9-754D06893375  BNM840515VB1   \n",
              "2  BD0DFE85-D776-41CB-9C5C-4FA7923E687A  BNM840515VB1   \n",
              "3  EF4504D6-830D-415C-AF03-80CF54C5E28E  PSS120625C86   \n",
              "4  EC2F4AA4-BA64-4E2E-A5B7-4EBBE042D6D3  ENA7006081P0   \n",
              "\n",
              "                                           PROVEEDOR            TIPO GASTO  \\\n",
              "0                                ARSI RENTA SA DE CV            MAQUINARIA   \n",
              "1                     BANCO NACIONAL DE MEXICO, S.A.     COMISION BANCARIA   \n",
              "2                     BANCO NACIONAL DE MEXICO, S.A.     COMISION BANCARIA   \n",
              "3  PROMOTORA DE SERVICIOS Y SOLUCIONES EMPRESARIA...  HONORARIOS CONTABLES   \n",
              "4                   ELECTROTERMICA NACIONAL SA DE CV               COMPRAS   \n",
              "\n",
              "  GASTO                                        DESCRIPCION   TC   IMPORTE  \\\n",
              "0     0  Descripción: REVOLVEDORA, Modelo: ULTRAMP9A, M...  1.0      0.00   \n",
              "1     0                                   COMISION COBRADA  1.0    490.00   \n",
              "2     0                                   COMISION COBRADA  1.0    195.00   \n",
              "3     0   HONORARIOS CONTABLES\\nDEL MES DE ENERO DEL 2020.  1.0  10694.25   \n",
              "4     0                                               Pago  1.0      0.00   \n",
              "\n",
              "       IVA RET ISR RET IVA  TOTAL MX TOTAL SAT     TIPO   STATUS  Columna1  \n",
              "0  2248.28       -       0   2248.28     16300  2248.28  Vigente  14051.72  \n",
              "1    78.40       -       -     568.4     568.4    78.40  Vigente      0.00  \n",
              "2    31.20       -       -     226.2     226.2    31.20  Vigente      0.00  \n",
              "3  1711.08       -       -  12405.33  12405.33  1711.08  Vigente      0.00  \n",
              "4     0.00       -       -         -         -     0.00  Vigente      0.00  "
            ],
            "text/html": [
              "\n",
              "  <div id=\"df-0095baf2-6404-4529-82b6-ce442cb432c2\">\n",
              "    <div class=\"colab-df-container\">\n",
              "      <div>\n",
              "<style scoped>\n",
              "    .dataframe tbody tr th:only-of-type {\n",
              "        vertical-align: middle;\n",
              "    }\n",
              "\n",
              "    .dataframe tbody tr th {\n",
              "        vertical-align: top;\n",
              "    }\n",
              "\n",
              "    .dataframe thead th {\n",
              "        text-align: right;\n",
              "    }\n",
              "</style>\n",
              "<table border=\"1\" class=\"dataframe\">\n",
              "  <thead>\n",
              "    <tr style=\"text-align: right;\">\n",
              "      <th></th>\n",
              "      <th>Unnamed: 0</th>\n",
              "      <th>FECHA</th>\n",
              "      <th>FOLIO</th>\n",
              "      <th>UUID</th>\n",
              "      <th>RFC</th>\n",
              "      <th>PROVEEDOR</th>\n",
              "      <th>TIPO GASTO</th>\n",
              "      <th>GASTO</th>\n",
              "      <th>DESCRIPCION</th>\n",
              "      <th>TC</th>\n",
              "      <th>IMPORTE</th>\n",
              "      <th>IVA</th>\n",
              "      <th>RET ISR</th>\n",
              "      <th>RET IVA</th>\n",
              "      <th>TOTAL MX</th>\n",
              "      <th>TOTAL SAT</th>\n",
              "      <th>TIPO</th>\n",
              "      <th>STATUS</th>\n",
              "      <th>Columna1</th>\n",
              "    </tr>\n",
              "  </thead>\n",
              "  <tbody>\n",
              "    <tr>\n",
              "      <th>0</th>\n",
              "      <td>0</td>\n",
              "      <td>2020-01-01</td>\n",
              "      <td>39408</td>\n",
              "      <td>BD20F436-72CC-4BE2-AD37-5999D71AA391</td>\n",
              "      <td>ARE080115PBA</td>\n",
              "      <td>ARSI RENTA SA DE CV</td>\n",
              "      <td>MAQUINARIA</td>\n",
              "      <td>0</td>\n",
              "      <td>Descripción: REVOLVEDORA, Modelo: ULTRAMP9A, M...</td>\n",
              "      <td>1.0</td>\n",
              "      <td>0.00</td>\n",
              "      <td>2248.28</td>\n",
              "      <td>-</td>\n",
              "      <td>0</td>\n",
              "      <td>2248.28</td>\n",
              "      <td>16300</td>\n",
              "      <td>2248.28</td>\n",
              "      <td>Vigente</td>\n",
              "      <td>14051.72</td>\n",
              "    </tr>\n",
              "    <tr>\n",
              "      <th>1</th>\n",
              "      <td>1</td>\n",
              "      <td>2020-01-01</td>\n",
              "      <td>1010100750847110016</td>\n",
              "      <td>85AEAC2E-6395-44A0-9CB9-754D06893375</td>\n",
              "      <td>BNM840515VB1</td>\n",
              "      <td>BANCO NACIONAL DE MEXICO, S.A.</td>\n",
              "      <td>COMISION BANCARIA</td>\n",
              "      <td>0</td>\n",
              "      <td>COMISION COBRADA</td>\n",
              "      <td>1.0</td>\n",
              "      <td>490.00</td>\n",
              "      <td>78.40</td>\n",
              "      <td>-</td>\n",
              "      <td>-</td>\n",
              "      <td>568.4</td>\n",
              "      <td>568.4</td>\n",
              "      <td>78.40</td>\n",
              "      <td>Vigente</td>\n",
              "      <td>0.00</td>\n",
              "    </tr>\n",
              "    <tr>\n",
              "      <th>2</th>\n",
              "      <td>2</td>\n",
              "      <td>2020-01-01</td>\n",
              "      <td>1010100752163709952</td>\n",
              "      <td>BD0DFE85-D776-41CB-9C5C-4FA7923E687A</td>\n",
              "      <td>BNM840515VB1</td>\n",
              "      <td>BANCO NACIONAL DE MEXICO, S.A.</td>\n",
              "      <td>COMISION BANCARIA</td>\n",
              "      <td>0</td>\n",
              "      <td>COMISION COBRADA</td>\n",
              "      <td>1.0</td>\n",
              "      <td>195.00</td>\n",
              "      <td>31.20</td>\n",
              "      <td>-</td>\n",
              "      <td>-</td>\n",
              "      <td>226.2</td>\n",
              "      <td>226.2</td>\n",
              "      <td>31.20</td>\n",
              "      <td>Vigente</td>\n",
              "      <td>0.00</td>\n",
              "    </tr>\n",
              "    <tr>\n",
              "      <th>3</th>\n",
              "      <td>3</td>\n",
              "      <td>2020-01-01</td>\n",
              "      <td>3663</td>\n",
              "      <td>EF4504D6-830D-415C-AF03-80CF54C5E28E</td>\n",
              "      <td>PSS120625C86</td>\n",
              "      <td>PROMOTORA DE SERVICIOS Y SOLUCIONES EMPRESARIA...</td>\n",
              "      <td>HONORARIOS CONTABLES</td>\n",
              "      <td>0</td>\n",
              "      <td>HONORARIOS CONTABLES\\nDEL MES DE ENERO DEL 2020.</td>\n",
              "      <td>1.0</td>\n",
              "      <td>10694.25</td>\n",
              "      <td>1711.08</td>\n",
              "      <td>-</td>\n",
              "      <td>-</td>\n",
              "      <td>12405.33</td>\n",
              "      <td>12405.33</td>\n",
              "      <td>1711.08</td>\n",
              "      <td>Vigente</td>\n",
              "      <td>0.00</td>\n",
              "    </tr>\n",
              "    <tr>\n",
              "      <th>4</th>\n",
              "      <td>4</td>\n",
              "      <td>2020-01-01</td>\n",
              "      <td>2849</td>\n",
              "      <td>EC2F4AA4-BA64-4E2E-A5B7-4EBBE042D6D3</td>\n",
              "      <td>ENA7006081P0</td>\n",
              "      <td>ELECTROTERMICA NACIONAL SA DE CV</td>\n",
              "      <td>COMPRAS</td>\n",
              "      <td>0</td>\n",
              "      <td>Pago</td>\n",
              "      <td>1.0</td>\n",
              "      <td>0.00</td>\n",
              "      <td>0.00</td>\n",
              "      <td>-</td>\n",
              "      <td>-</td>\n",
              "      <td>-</td>\n",
              "      <td>-</td>\n",
              "      <td>0.00</td>\n",
              "      <td>Vigente</td>\n",
              "      <td>0.00</td>\n",
              "    </tr>\n",
              "  </tbody>\n",
              "</table>\n",
              "</div>\n",
              "      <button class=\"colab-df-convert\" onclick=\"convertToInteractive('df-0095baf2-6404-4529-82b6-ce442cb432c2')\"\n",
              "              title=\"Convert this dataframe to an interactive table.\"\n",
              "              style=\"display:none;\">\n",
              "        \n",
              "  <svg xmlns=\"http://www.w3.org/2000/svg\" height=\"24px\"viewBox=\"0 0 24 24\"\n",
              "       width=\"24px\">\n",
              "    <path d=\"M0 0h24v24H0V0z\" fill=\"none\"/>\n",
              "    <path d=\"M18.56 5.44l.94 2.06.94-2.06 2.06-.94-2.06-.94-.94-2.06-.94 2.06-2.06.94zm-11 1L8.5 8.5l.94-2.06 2.06-.94-2.06-.94L8.5 2.5l-.94 2.06-2.06.94zm10 10l.94 2.06.94-2.06 2.06-.94-2.06-.94-.94-2.06-.94 2.06-2.06.94z\"/><path d=\"M17.41 7.96l-1.37-1.37c-.4-.4-.92-.59-1.43-.59-.52 0-1.04.2-1.43.59L10.3 9.45l-7.72 7.72c-.78.78-.78 2.05 0 2.83L4 21.41c.39.39.9.59 1.41.59.51 0 1.02-.2 1.41-.59l7.78-7.78 2.81-2.81c.8-.78.8-2.07 0-2.86zM5.41 20L4 18.59l7.72-7.72 1.47 1.35L5.41 20z\"/>\n",
              "  </svg>\n",
              "      </button>\n",
              "      \n",
              "  <style>\n",
              "    .colab-df-container {\n",
              "      display:flex;\n",
              "      flex-wrap:wrap;\n",
              "      gap: 12px;\n",
              "    }\n",
              "\n",
              "    .colab-df-convert {\n",
              "      background-color: #E8F0FE;\n",
              "      border: none;\n",
              "      border-radius: 50%;\n",
              "      cursor: pointer;\n",
              "      display: none;\n",
              "      fill: #1967D2;\n",
              "      height: 32px;\n",
              "      padding: 0 0 0 0;\n",
              "      width: 32px;\n",
              "    }\n",
              "\n",
              "    .colab-df-convert:hover {\n",
              "      background-color: #E2EBFA;\n",
              "      box-shadow: 0px 1px 2px rgba(60, 64, 67, 0.3), 0px 1px 3px 1px rgba(60, 64, 67, 0.15);\n",
              "      fill: #174EA6;\n",
              "    }\n",
              "\n",
              "    [theme=dark] .colab-df-convert {\n",
              "      background-color: #3B4455;\n",
              "      fill: #D2E3FC;\n",
              "    }\n",
              "\n",
              "    [theme=dark] .colab-df-convert:hover {\n",
              "      background-color: #434B5C;\n",
              "      box-shadow: 0px 1px 3px 1px rgba(0, 0, 0, 0.15);\n",
              "      filter: drop-shadow(0px 1px 2px rgba(0, 0, 0, 0.3));\n",
              "      fill: #FFFFFF;\n",
              "    }\n",
              "  </style>\n",
              "\n",
              "      <script>\n",
              "        const buttonEl =\n",
              "          document.querySelector('#df-0095baf2-6404-4529-82b6-ce442cb432c2 button.colab-df-convert');\n",
              "        buttonEl.style.display =\n",
              "          google.colab.kernel.accessAllowed ? 'block' : 'none';\n",
              "\n",
              "        async function convertToInteractive(key) {\n",
              "          const element = document.querySelector('#df-0095baf2-6404-4529-82b6-ce442cb432c2');\n",
              "          const dataTable =\n",
              "            await google.colab.kernel.invokeFunction('convertToInteractive',\n",
              "                                                     [key], {});\n",
              "          if (!dataTable) return;\n",
              "\n",
              "          const docLinkHtml = 'Like what you see? Visit the ' +\n",
              "            '<a target=\"_blank\" href=https://colab.research.google.com/notebooks/data_table.ipynb>data table notebook</a>'\n",
              "            + ' to learn more about interactive tables.';\n",
              "          element.innerHTML = '';\n",
              "          dataTable['output_type'] = 'display_data';\n",
              "          await google.colab.output.renderOutput(dataTable, element);\n",
              "          const docLink = document.createElement('div');\n",
              "          docLink.innerHTML = docLinkHtml;\n",
              "          element.appendChild(docLink);\n",
              "        }\n",
              "      </script>\n",
              "    </div>\n",
              "  </div>\n",
              "  "
            ]
          },
          "metadata": {},
          "execution_count": 57
        }
      ]
    },
    {
      "cell_type": "code",
      "source": [
        "gc0.isnull().sum()"
      ],
      "metadata": {
        "colab": {
          "base_uri": "https://localhost:8080/"
        },
        "id": "a7dNq25NrKP3",
        "outputId": "eb6ba454-38c2-4350-88ac-02d067536250"
      },
      "execution_count": 58,
      "outputs": [
        {
          "output_type": "execute_result",
          "data": {
            "text/plain": [
              "Unnamed: 0     0\n",
              "FECHA          0\n",
              "FOLIO          0\n",
              "UUID           0\n",
              "RFC            0\n",
              "PROVEEDOR      0\n",
              "TIPO GASTO     0\n",
              "GASTO          0\n",
              "DESCRIPCION    0\n",
              "TC             0\n",
              "IMPORTE        0\n",
              "IVA            0\n",
              "RET ISR        0\n",
              "RET IVA        0\n",
              "TOTAL MX       0\n",
              "TOTAL SAT      0\n",
              "TIPO           0\n",
              "STATUS         0\n",
              "Columna1       0\n",
              "dtype: int64"
            ]
          },
          "metadata": {},
          "execution_count": 58
        }
      ]
    },
    {
      "cell_type": "markdown",
      "source": [
        "Todos los archivos ya están limpios de datyos nulos tras la limpieza realizada en la actividad pasada. "
      ],
      "metadata": {
        "id": "qbLph3qDrgVR"
      }
    },
    {
      "cell_type": "markdown",
      "source": [
        "## **Datos Atípicos**"
      ],
      "metadata": {
        "id": "I4jEOsyOrOQX"
      }
    },
    {
      "cell_type": "markdown",
      "source": [
        "## Año 2020"
      ],
      "metadata": {
        "id": "92t6DOibxt-x"
      }
    },
    {
      "cell_type": "code",
      "source": [
        "gc0.info()"
      ],
      "metadata": {
        "colab": {
          "base_uri": "https://localhost:8080/"
        },
        "id": "PBgxM1E_rY-J",
        "outputId": "5f35eba4-3ad1-4547-d93f-1a6f361f4bcb"
      },
      "execution_count": 59,
      "outputs": [
        {
          "output_type": "stream",
          "name": "stdout",
          "text": [
            "<class 'pandas.core.frame.DataFrame'>\n",
            "RangeIndex: 3342 entries, 0 to 3341\n",
            "Data columns (total 19 columns):\n",
            " #   Column       Non-Null Count  Dtype  \n",
            "---  ------       --------------  -----  \n",
            " 0   Unnamed: 0   3342 non-null   int64  \n",
            " 1   FECHA        3342 non-null   object \n",
            " 2   FOLIO        3342 non-null   object \n",
            " 3   UUID         3342 non-null   object \n",
            " 4   RFC          3342 non-null   object \n",
            " 5   PROVEEDOR    3342 non-null   object \n",
            " 6   TIPO GASTO   3342 non-null   object \n",
            " 7   GASTO        3342 non-null   object \n",
            " 8   DESCRIPCION  3342 non-null   object \n",
            " 9   TC           3342 non-null   float64\n",
            " 10  IMPORTE      3342 non-null   float64\n",
            " 11  IVA          3342 non-null   float64\n",
            " 12  RET ISR      3342 non-null   object \n",
            " 13  RET IVA      3342 non-null   object \n",
            " 14  TOTAL MX     3342 non-null   object \n",
            " 15  TOTAL SAT    3342 non-null   object \n",
            " 16  TIPO         3342 non-null   float64\n",
            " 17  STATUS       3342 non-null   object \n",
            " 18  Columna1     3342 non-null   float64\n",
            "dtypes: float64(5), int64(1), object(13)\n",
            "memory usage: 496.2+ KB\n"
          ]
        }
      ]
    },
    {
      "cell_type": "code",
      "source": [
        "#Columnas numéricas\n",
        "X0=gc0.iloc[:,[9,10,11,16,18]]\n",
        "\n",
        "#Columnas objeto\n",
        "y0=gc0.iloc[:,[1,2,3,4,5,6,7,8,12,13,14,15,17]]\n",
        "X0.info()"
      ],
      "metadata": {
        "colab": {
          "base_uri": "https://localhost:8080/"
        },
        "id": "vcndzPMstG9k",
        "outputId": "fc51cd79-22eb-4b25-9256-2a9368eabf73"
      },
      "execution_count": 60,
      "outputs": [
        {
          "output_type": "stream",
          "name": "stdout",
          "text": [
            "<class 'pandas.core.frame.DataFrame'>\n",
            "RangeIndex: 3342 entries, 0 to 3341\n",
            "Data columns (total 5 columns):\n",
            " #   Column    Non-Null Count  Dtype  \n",
            "---  ------    --------------  -----  \n",
            " 0   TC        3342 non-null   float64\n",
            " 1   IMPORTE   3342 non-null   float64\n",
            " 2   IVA       3342 non-null   float64\n",
            " 3   TIPO      3342 non-null   float64\n",
            " 4   Columna1  3342 non-null   float64\n",
            "dtypes: float64(5)\n",
            "memory usage: 130.7 KB\n"
          ]
        }
      ]
    },
    {
      "cell_type": "code",
      "source": [
        "#Realizamos diagrama de caja o bigote de cada columna del dataframe\n",
        "fig = plt.figure(figsize =(15, 8))\n",
        "X0.plot(kind='box', vert=False)\n",
        "plt.title(\"Valores Atípicos del Dataframe\")\n",
        "plt.show() #dibujamos el diagrama"
      ],
      "metadata": {
        "colab": {
          "base_uri": "https://localhost:8080/",
          "height": 470
        },
        "id": "qCRifQNdruI8",
        "outputId": "0a311796-3211-4b06-d977-0b02b29ebe63"
      },
      "execution_count": 61,
      "outputs": [
        {
          "output_type": "display_data",
          "data": {
            "text/plain": [
              "<Figure size 1500x800 with 0 Axes>"
            ]
          },
          "metadata": {}
        },
        {
          "output_type": "display_data",
          "data": {
            "text/plain": [
              "<Figure size 640x480 with 1 Axes>"
            ],
            "image/png": "[encoded data removed]"
          },
          "metadata": {}
        }
      ]
    },
    {
      "cell_type": "markdown",
      "source": [
        "**Proceso de desviación estándar**"
      ],
      "metadata": {
        "id": "enzXIGf8wEKV"
      }
    },
    {
      "cell_type": "code",
      "source": [
        "y=X0\n",
        "Limite_Superior= y.mean() + 3*y.std()\n",
        "Limite_Inferior= y.mean() - 3*y.std()\n",
        "outliers= X0[(y>Limite_Superior)|(y<Limite_Inferior)]\n",
        "#Outliers como nulos\n",
        "X0_n= X0[(y<=Limite_Superior)&(y>=Limite_Inferior)]\n",
        "X0_n.isnull().sum()"
      ],
      "metadata": {
        "colab": {
          "base_uri": "https://localhost:8080/"
        },
        "id": "NNiRq-H1twLY",
        "outputId": "b0eb3738-2f9b-4822-967c-b9ade718f759"
      },
      "execution_count": 62,
      "outputs": [
        {
          "output_type": "execute_result",
          "data": {
            "text/plain": [
              "TC           9\n",
              "IMPORTE     67\n",
              "IVA         59\n",
              "TIPO        59\n",
              "Columna1    15\n",
              "dtype: int64"
            ]
          },
          "metadata": {},
          "execution_count": 62
        }
      ]
    },
    {
      "cell_type": "code",
      "source": [
        "#Cambiamos los datos nulos (antes atípicos) por media\n",
        "X0_clean=X0_n.copy()\n",
        "X0_clean=X0_clean.fillna(round(X0_n.mean(),1))\n",
        "X0_clean.isnull().sum()"
      ],
      "metadata": {
        "colab": {
          "base_uri": "https://localhost:8080/"
        },
        "id": "217C7nWguplZ",
        "outputId": "e86fa7d7-636a-4b8e-9c7c-cbc8a609e0f1"
      },
      "execution_count": 63,
      "outputs": [
        {
          "output_type": "execute_result",
          "data": {
            "text/plain": [
              "TC          0\n",
              "IMPORTE     0\n",
              "IVA         0\n",
              "TIPO        0\n",
              "Columna1    0\n",
              "dtype: int64"
            ]
          },
          "metadata": {},
          "execution_count": 63
        }
      ]
    },
    {
      "cell_type": "code",
      "source": [
        "Datos_limpios0d = pd.concat([y0, X0_clean], axis=1)\n",
        "Datos_limpios0d.to_csv('gastos_costos_2020_nulos_outliers_de.csv')\n",
        "Datos_limpios0d"
      ],
      "metadata": {
        "colab": {
          "base_uri": "https://localhost:8080/",
          "height": 1000
        },
        "id": "0yeXHKzZ28Q9",
        "outputId": "c694ff36-e2b0-4520-fc65-8244f089af41"
      },
      "execution_count": 97,
      "outputs": [
        {
          "output_type": "execute_result",
          "data": {
            "text/plain": [
              "           FECHA                FOLIO                                  UUID  \\\n",
              "0     2020-01-01                39408  BD20F436-72CC-4BE2-AD37-5999D71AA391   \n",
              "1     2020-01-01  1010100750847110016  85AEAC2E-6395-44A0-9CB9-754D06893375   \n",
              "2     2020-01-01  1010100752163709952  BD0DFE85-D776-41CB-9C5C-4FA7923E687A   \n",
              "3     2020-01-01                 3663  EF4504D6-830D-415C-AF03-80CF54C5E28E   \n",
              "4     2020-01-01                 2849  EC2F4AA4-BA64-4E2E-A5B7-4EBBE042D6D3   \n",
              "...          ...                  ...                                   ...   \n",
              "3337  2020-12-01               125834  80BCB1D8-673F-495B-9C2A-4AC9F9CB38E5   \n",
              "3338  2020-12-01                37652  D4C7C1FB-03A7-4046-A2BD-03EBE7DA861E   \n",
              "3339  2020-12-01                  160  FFCEE7D4-1F38-4D44-BE02-EB042DAACEE7   \n",
              "3340  2020-12-01               634875  8DFF4F01-2F8B-4085-B116-05A314108B02   \n",
              "3341  2020-12-01              1044477  F18225D6-4024-4F03-A15A-D18917386D59   \n",
              "\n",
              "               RFC                                          PROVEEDOR  \\\n",
              "0     ARE080115PBA                                ARSI RENTA SA DE CV   \n",
              "1     BNM840515VB1                     BANCO NACIONAL DE MEXICO, S.A.   \n",
              "2     BNM840515VB1                     BANCO NACIONAL DE MEXICO, S.A.   \n",
              "3     PSS120625C86  PROMOTORA DE SERVICIOS Y SOLUCIONES EMPRESARIA...   \n",
              "4     ENA7006081P0                   ELECTROTERMICA NACIONAL SA DE CV   \n",
              "...            ...                                                ...   \n",
              "3337  SQS110113MU0                   SERVICIO QUINTANA SUR S.A DE C.V   \n",
              "3338  PSQ790724C90  CIA. PERIODISTICA DEL SOL DE QUERETARO, S.A. D...   \n",
              "3339  SQX981027RY5                            SUPER Q, S. A. DE C. V.   \n",
              "3340  BIN940223KE0  BANCO INVEX, S.A., INSTITUCION DE BANCA MULTIP...   \n",
              "3341  EFE8908015L3                      EFECTIVALE S. de R.L. de C.V.   \n",
              "\n",
              "                TIPO GASTO   GASTO  \\\n",
              "0               MAQUINARIA       0   \n",
              "1        COMISION BANCARIA       0   \n",
              "2        COMISION BANCARIA       0   \n",
              "3     HONORARIOS CONTABLES       0   \n",
              "4                  COMPRAS       0   \n",
              "...                    ...     ...   \n",
              "3337           COMBUSTIBLE   G VTA   \n",
              "3338            PUBLICIDAD   G VTA   \n",
              "3339             ALIMENTOS   G VTA   \n",
              "3340     COMISION BANCARIA  G FINA   \n",
              "3341           COMBUSTIBLE   G VTA   \n",
              "\n",
              "                                            DESCRIPCION RET ISR RET IVA  \\\n",
              "0     Descripción: REVOLVEDORA, Modelo: ULTRAMP9A, M...       -       0   \n",
              "1                                      COMISION COBRADA       -       -   \n",
              "2                                      COMISION COBRADA       -       -   \n",
              "3      HONORARIOS CONTABLES\\nDEL MES DE ENERO DEL 2020.       -       -   \n",
              "4                                                  Pago       -       -   \n",
              "...                                                 ...     ...     ...   \n",
              "3337                                        32011 MAGNA       -       -   \n",
              "3338   82101504-PUBLICIDAD EN PERIODICOSCALOR Y CONTROL       -       -   \n",
              "3339                  REF VICTORIA GROSELLA 3 LT PET NR       -       -   \n",
              "3340                             COMISIONES E INTERESES       -       -   \n",
              "3341  CONSUMOS DE COMBUSTIBLE DE MONEDEROS ELECTRONICOS       -       -   \n",
              "\n",
              "      TOTAL MX TOTAL SAT   STATUS   TC   IMPORTE      IVA     TIPO  Columna1  \n",
              "0      2248.28     16300  Vigente  1.0      0.00  2248.28  2248.28  14051.72  \n",
              "1        568.4     568.4  Vigente  1.0    490.00    78.40    78.40      0.00  \n",
              "2        226.2     226.2  Vigente  1.0    195.00    31.20    31.20      0.00  \n",
              "3     12405.33  12405.33  Vigente  1.0  10694.25  1711.08  1711.08      0.00  \n",
              "4            -         -  Vigente  1.0      0.00     0.00     0.00      0.00  \n",
              "...        ...       ...      ...  ...       ...      ...      ...       ...  \n",
              "3337       150       150  Vigente  1.0    129.79    20.21    20.21      0.00  \n",
              "3338   2650.37   2650.37  Vigente  1.0   2284.80   365.57   365.57      0.00  \n",
              "3339       190       190  Vigente  1.0    163.79    26.21    26.21      0.00  \n",
              "3340         -         -  Vigente  1.0      0.00     0.00     0.00      0.00  \n",
              "3341  14889.29  14889.29  Vigente  1.0  14889.29     0.00     0.00      0.00  \n",
              "\n",
              "[3342 rows x 18 columns]"
            ],
            "text/html": [
              "\n",
              "  <div id=\"df-19e805c4-5ded-432f-8a75-0f48064076d6\">\n",
              "    <div class=\"colab-df-container\">\n",
              "      <div>\n",
              "<style scoped>\n",
              "    .dataframe tbody tr th:only-of-type {\n",
              "        vertical-align: middle;\n",
              "    }\n",
              "\n",
              "    .dataframe tbody tr th {\n",
              "        vertical-align: top;\n",
              "    }\n",
              "\n",
              "    .dataframe thead th {\n",
              "        text-align: right;\n",
              "    }\n",
              "</style>\n",
              "<table border=\"1\" class=\"dataframe\">\n",
              "  <thead>\n",
              "    <tr style=\"text-align: right;\">\n",
              "      <th></th>\n",
              "      <th>FECHA</th>\n",
              "      <th>FOLIO</th>\n",
              "      <th>UUID</th>\n",
              "      <th>RFC</th>\n",
              "      <th>PROVEEDOR</th>\n",
              "      <th>TIPO GASTO</th>\n",
              "      <th>GASTO</th>\n",
              "      <th>DESCRIPCION</th>\n",
              "      <th>RET ISR</th>\n",
              "      <th>RET IVA</th>\n",
              "      <th>TOTAL MX</th>\n",
              "      <th>TOTAL SAT</th>\n",
              "      <th>STATUS</th>\n",
              "      <th>TC</th>\n",
              "      <th>IMPORTE</th>\n",
              "      <th>IVA</th>\n",
              "      <th>TIPO</th>\n",
              "      <th>Columna1</th>\n",
              "    </tr>\n",
              "  </thead>\n",
              "  <tbody>\n",
              "    <tr>\n",
              "      <th>0</th>\n",
              "      <td>2020-01-01</td>\n",
              "      <td>39408</td>\n",
              "      <td>BD20F436-72CC-4BE2-AD37-5999D71AA391</td>\n",
              "      <td>ARE080115PBA</td>\n",
              "      <td>ARSI RENTA SA DE CV</td>\n",
              "      <td>MAQUINARIA</td>\n",
              "      <td>0</td>\n",
              "      <td>Descripción: REVOLVEDORA, Modelo: ULTRAMP9A, M...</td>\n",
              "      <td>-</td>\n",
              "      <td>0</td>\n",
              "      <td>2248.28</td>\n",
              "      <td>16300</td>\n",
              "      <td>Vigente</td>\n",
              "      <td>1.0</td>\n",
              "      <td>0.00</td>\n",
              "      <td>2248.28</td>\n",
              "      <td>2248.28</td>\n",
              "      <td>14051.72</td>\n",
              "    </tr>\n",
              "    <tr>\n",
              "      <th>1</th>\n",
              "      <td>2020-01-01</td>\n",
              "      <td>1010100750847110016</td>\n",
              "      <td>85AEAC2E-6395-44A0-9CB9-754D06893375</td>\n",
              "      <td>BNM840515VB1</td>\n",
              "      <td>BANCO NACIONAL DE MEXICO, S.A.</td>\n",
              "      <td>COMISION BANCARIA</td>\n",
              "      <td>0</td>\n",
              "      <td>COMISION COBRADA</td>\n",
              "      <td>-</td>\n",
              "      <td>-</td>\n",
              "      <td>568.4</td>\n",
              "      <td>568.4</td>\n",
              "      <td>Vigente</td>\n",
              "      <td>1.0</td>\n",
              "      <td>490.00</td>\n",
              "      <td>78.40</td>\n",
              "      <td>78.40</td>\n",
              "      <td>0.00</td>\n",
              "    </tr>\n",
              "    <tr>\n",
              "      <th>2</th>\n",
              "      <td>2020-01-01</td>\n",
              "      <td>1010100752163709952</td>\n",
              "      <td>BD0DFE85-D776-41CB-9C5C-4FA7923E687A</td>\n",
              "      <td>BNM840515VB1</td>\n",
              "      <td>BANCO NACIONAL DE MEXICO, S.A.</td>\n",
              "      <td>COMISION BANCARIA</td>\n",
              "      <td>0</td>\n",
              "      <td>COMISION COBRADA</td>\n",
              "      <td>-</td>\n",
              "      <td>-</td>\n",
              "      <td>226.2</td>\n",
              "      <td>226.2</td>\n",
              "      <td>Vigente</td>\n",
              "      <td>1.0</td>\n",
              "      <td>195.00</td>\n",
              "      <td>31.20</td>\n",
              "      <td>31.20</td>\n",
              "      <td>0.00</td>\n",
              "    </tr>\n",
              "    <tr>\n",
              "      <th>3</th>\n",
              "      <td>2020-01-01</td>\n",
              "      <td>3663</td>\n",
              "      <td>EF4504D6-830D-415C-AF03-80CF54C5E28E</td>\n",
              "      <td>PSS120625C86</td>\n",
              "      <td>PROMOTORA DE SERVICIOS Y SOLUCIONES EMPRESARIA...</td>\n",
              "      <td>HONORARIOS CONTABLES</td>\n",
              "      <td>0</td>\n",
              "      <td>HONORARIOS CONTABLES\\nDEL MES DE ENERO DEL 2020.</td>\n",
              "      <td>-</td>\n",
              "      <td>-</td>\n",
              "      <td>12405.33</td>\n",
              "      <td>12405.33</td>\n",
              "      <td>Vigente</td>\n",
              "      <td>1.0</td>\n",
              "      <td>10694.25</td>\n",
              "      <td>1711.08</td>\n",
              "      <td>1711.08</td>\n",
              "      <td>0.00</td>\n",
              "    </tr>\n",
              "    <tr>\n",
              "      <th>4</th>\n",
              "      <td>2020-01-01</td>\n",
              "      <td>2849</td>\n",
              "      <td>EC2F4AA4-BA64-4E2E-A5B7-4EBBE042D6D3</td>\n",
              "      <td>ENA7006081P0</td>\n",
              "      <td>ELECTROTERMICA NACIONAL SA DE CV</td>\n",
              "      <td>COMPRAS</td>\n",
              "      <td>0</td>\n",
              "      <td>Pago</td>\n",
              "      <td>-</td>\n",
              "      <td>-</td>\n",
              "      <td>-</td>\n",
              "      <td>-</td>\n",
              "      <td>Vigente</td>\n",
              "      <td>1.0</td>\n",
              "      <td>0.00</td>\n",
              "      <td>0.00</td>\n",
              "      <td>0.00</td>\n",
              "      <td>0.00</td>\n",
              "    </tr>\n",
              "    <tr>\n",
              "      <th>...</th>\n",
              "      <td>...</td>\n",
              "      <td>...</td>\n",
              "      <td>...</td>\n",
              "      <td>...</td>\n",
              "      <td>...</td>\n",
              "      <td>...</td>\n",
              "      <td>...</td>\n",
              "      <td>...</td>\n",
              "      <td>...</td>\n",
              "      <td>...</td>\n",
              "      <td>...</td>\n",
              "      <td>...</td>\n",
              "      <td>...</td>\n",
              "      <td>...</td>\n",
              "      <td>...</td>\n",
              "      <td>...</td>\n",
              "      <td>...</td>\n",
              "      <td>...</td>\n",
              "    </tr>\n",
              "    <tr>\n",
              "      <th>3337</th>\n",
              "      <td>2020-12-01</td>\n",
              "      <td>125834</td>\n",
              "      <td>80BCB1D8-673F-495B-9C2A-4AC9F9CB38E5</td>\n",
              "      <td>SQS110113MU0</td>\n",
              "      <td>SERVICIO QUINTANA SUR S.A DE C.V</td>\n",
              "      <td>COMBUSTIBLE</td>\n",
              "      <td>G VTA</td>\n",
              "      <td>32011 MAGNA</td>\n",
              "      <td>-</td>\n",
              "      <td>-</td>\n",
              "      <td>150</td>\n",
              "      <td>150</td>\n",
              "      <td>Vigente</td>\n",
              "      <td>1.0</td>\n",
              "      <td>129.79</td>\n",
              "      <td>20.21</td>\n",
              "      <td>20.21</td>\n",
              "      <td>0.00</td>\n",
              "    </tr>\n",
              "    <tr>\n",
              "      <th>3338</th>\n",
              "      <td>2020-12-01</td>\n",
              "      <td>37652</td>\n",
              "      <td>D4C7C1FB-03A7-4046-A2BD-03EBE7DA861E</td>\n",
              "      <td>PSQ790724C90</td>\n",
              "      <td>CIA. PERIODISTICA DEL SOL DE QUERETARO, S.A. D...</td>\n",
              "      <td>PUBLICIDAD</td>\n",
              "      <td>G VTA</td>\n",
              "      <td>82101504-PUBLICIDAD EN PERIODICOSCALOR Y CONTROL</td>\n",
              "      <td>-</td>\n",
              "      <td>-</td>\n",
              "      <td>2650.37</td>\n",
              "      <td>2650.37</td>\n",
              "      <td>Vigente</td>\n",
              "      <td>1.0</td>\n",
              "      <td>2284.80</td>\n",
              "      <td>365.57</td>\n",
              "      <td>365.57</td>\n",
              "      <td>0.00</td>\n",
              "    </tr>\n",
              "    <tr>\n",
              "      <th>3339</th>\n",
              "      <td>2020-12-01</td>\n",
              "      <td>160</td>\n",
              "      <td>FFCEE7D4-1F38-4D44-BE02-EB042DAACEE7</td>\n",
              "      <td>SQX981027RY5</td>\n",
              "      <td>SUPER Q, S. A. DE C. V.</td>\n",
              "      <td>ALIMENTOS</td>\n",
              "      <td>G VTA</td>\n",
              "      <td>REF VICTORIA GROSELLA 3 LT PET NR</td>\n",
              "      <td>-</td>\n",
              "      <td>-</td>\n",
              "      <td>190</td>\n",
              "      <td>190</td>\n",
              "      <td>Vigente</td>\n",
              "      <td>1.0</td>\n",
              "      <td>163.79</td>\n",
              "      <td>26.21</td>\n",
              "      <td>26.21</td>\n",
              "      <td>0.00</td>\n",
              "    </tr>\n",
              "    <tr>\n",
              "      <th>3340</th>\n",
              "      <td>2020-12-01</td>\n",
              "      <td>634875</td>\n",
              "      <td>8DFF4F01-2F8B-4085-B116-05A314108B02</td>\n",
              "      <td>BIN940223KE0</td>\n",
              "      <td>BANCO INVEX, S.A., INSTITUCION DE BANCA MULTIP...</td>\n",
              "      <td>COMISION BANCARIA</td>\n",
              "      <td>G FINA</td>\n",
              "      <td>COMISIONES E INTERESES</td>\n",
              "      <td>-</td>\n",
              "      <td>-</td>\n",
              "      <td>-</td>\n",
              "      <td>-</td>\n",
              "      <td>Vigente</td>\n",
              "      <td>1.0</td>\n",
              "      <td>0.00</td>\n",
              "      <td>0.00</td>\n",
              "      <td>0.00</td>\n",
              "      <td>0.00</td>\n",
              "    </tr>\n",
              "    <tr>\n",
              "      <th>3341</th>\n",
              "      <td>2020-12-01</td>\n",
              "      <td>1044477</td>\n",
              "      <td>F18225D6-4024-4F03-A15A-D18917386D59</td>\n",
              "      <td>EFE8908015L3</td>\n",
              "      <td>EFECTIVALE S. de R.L. de C.V.</td>\n",
              "      <td>COMBUSTIBLE</td>\n",
              "      <td>G VTA</td>\n",
              "      <td>CONSUMOS DE COMBUSTIBLE DE MONEDEROS ELECTRONICOS</td>\n",
              "      <td>-</td>\n",
              "      <td>-</td>\n",
              "      <td>14889.29</td>\n",
              "      <td>14889.29</td>\n",
              "      <td>Vigente</td>\n",
              "      <td>1.0</td>\n",
              "      <td>14889.29</td>\n",
              "      <td>0.00</td>\n",
              "      <td>0.00</td>\n",
              "      <td>0.00</td>\n",
              "    </tr>\n",
              "  </tbody>\n",
              "</table>\n",
              "<p>3342 rows × 18 columns</p>\n",
              "</div>\n",
              "      <button class=\"colab-df-convert\" onclick=\"convertToInteractive('df-19e805c4-5ded-432f-8a75-0f48064076d6')\"\n",
              "              title=\"Convert this dataframe to an interactive table.\"\n",
              "              style=\"display:none;\">\n",
              "        \n",
              "  <svg xmlns=\"http://www.w3.org/2000/svg\" height=\"24px\"viewBox=\"0 0 24 24\"\n",
              "       width=\"24px\">\n",
              "    <path d=\"M0 0h24v24H0V0z\" fill=\"none\"/>\n",
              "    <path d=\"M18.56 5.44l.94 2.06.94-2.06 2.06-.94-2.06-.94-.94-2.06-.94 2.06-2.06.94zm-11 1L8.5 8.5l.94-2.06 2.06-.94-2.06-.94L8.5 2.5l-.94 2.06-2.06.94zm10 10l.94 2.06.94-2.06 2.06-.94-2.06-.94-.94-2.06-.94 2.06-2.06.94z\"/><path d=\"M17.41 7.96l-1.37-1.37c-.4-.4-.92-.59-1.43-.59-.52 0-1.04.2-1.43.59L10.3 9.45l-7.72 7.72c-.78.78-.78 2.05 0 2.83L4 21.41c.39.39.9.59 1.41.59.51 0 1.02-.2 1.41-.59l7.78-7.78 2.81-2.81c.8-.78.8-2.07 0-2.86zM5.41 20L4 18.59l7.72-7.72 1.47 1.35L5.41 20z\"/>\n",
              "  </svg>\n",
              "      </button>\n",
              "      \n",
              "  <style>\n",
              "    .colab-df-container {\n",
              "      display:flex;\n",
              "      flex-wrap:wrap;\n",
              "      gap: 12px;\n",
              "    }\n",
              "\n",
              "    .colab-df-convert {\n",
              "      background-color: #E8F0FE;\n",
              "      border: none;\n",
              "      border-radius: 50%;\n",
              "      cursor: pointer;\n",
              "      display: none;\n",
              "      fill: #1967D2;\n",
              "      height: 32px;\n",
              "      padding: 0 0 0 0;\n",
              "      width: 32px;\n",
              "    }\n",
              "\n",
              "    .colab-df-convert:hover {\n",
              "      background-color: #E2EBFA;\n",
              "      box-shadow: 0px 1px 2px rgba(60, 64, 67, 0.3), 0px 1px 3px 1px rgba(60, 64, 67, 0.15);\n",
              "      fill: #174EA6;\n",
              "    }\n",
              "\n",
              "    [theme=dark] .colab-df-convert {\n",
              "      background-color: #3B4455;\n",
              "      fill: #D2E3FC;\n",
              "    }\n",
              "\n",
              "    [theme=dark] .colab-df-convert:hover {\n",
              "      background-color: #434B5C;\n",
              "      box-shadow: 0px 1px 3px 1px rgba(0, 0, 0, 0.15);\n",
              "      filter: drop-shadow(0px 1px 2px rgba(0, 0, 0, 0.3));\n",
              "      fill: #FFFFFF;\n",
              "    }\n",
              "  </style>\n",
              "\n",
              "      <script>\n",
              "        const buttonEl =\n",
              "          document.querySelector('#df-19e805c4-5ded-432f-8a75-0f48064076d6 button.colab-df-convert');\n",
              "        buttonEl.style.display =\n",
              "          google.colab.kernel.accessAllowed ? 'block' : 'none';\n",
              "\n",
              "        async function convertToInteractive(key) {\n",
              "          const element = document.querySelector('#df-19e805c4-5ded-432f-8a75-0f48064076d6');\n",
              "          const dataTable =\n",
              "            await google.colab.kernel.invokeFunction('convertToInteractive',\n",
              "                                                     [key], {});\n",
              "          if (!dataTable) return;\n",
              "\n",
              "          const docLinkHtml = 'Like what you see? Visit the ' +\n",
              "            '<a target=\"_blank\" href=https://colab.research.google.com/notebooks/data_table.ipynb>data table notebook</a>'\n",
              "            + ' to learn more about interactive tables.';\n",
              "          element.innerHTML = '';\n",
              "          dataTable['output_type'] = 'display_data';\n",
              "          await google.colab.output.renderOutput(dataTable, element);\n",
              "          const docLink = document.createElement('div');\n",
              "          docLink.innerHTML = docLinkHtml;\n",
              "          element.appendChild(docLink);\n",
              "        }\n",
              "      </script>\n",
              "    </div>\n",
              "  </div>\n",
              "  "
            ]
          },
          "metadata": {},
          "execution_count": 97
        }
      ]
    },
    {
      "cell_type": "markdown",
      "source": [
        "**Proceso intercuartílico**"
      ],
      "metadata": {
        "id": "i3ePqNBOvUZw"
      }
    },
    {
      "cell_type": "code",
      "source": [
        "#Método aplicando Cuartiles. Encuentro cuartiles 0.25 y 0.75\n",
        "y=X0\n",
        "percentile25=y.quantile(0.25) #Q1\n",
        "percentile75=y.quantile(0.75) #Q3\n",
        "iqr= percentile75 - percentile25\n",
        "Limite_Superior_iqr= percentile75 + 1.5*iqr\n",
        "Limite_Inferior_iqr= percentile25 - 1.5*iqr\n",
        "outliers_iqr= X0[(y>Limite_Superior_iqr)|(y<Limite_Inferior_iqr)]\n",
        "#Obtenemos datos limpios del Dataframe\n",
        "X0_iqr= X0[(y<=Limite_Superior_iqr)&(y>=Limite_Inferior_iqr)]\n",
        "X0_iqr.isnull().sum()"
      ],
      "metadata": {
        "colab": {
          "base_uri": "https://localhost:8080/"
        },
        "id": "vmwSp96JwTZq",
        "outputId": "39acf17f-43ac-4e48-b5de-a50a59457754"
      },
      "execution_count": 64,
      "outputs": [
        {
          "output_type": "execute_result",
          "data": {
            "text/plain": [
              "TC            9\n",
              "IMPORTE     423\n",
              "IVA         445\n",
              "TIPO        445\n",
              "Columna1    240\n",
              "dtype: int64"
            ]
          },
          "metadata": {},
          "execution_count": 64
        }
      ]
    },
    {
      "cell_type": "code",
      "source": [
        "#Reemplazamos valores nulos (atípicos) con la media\n",
        "X0_iqr2=X0_iqr.copy()\n",
        "X0_iqr2=X0_iqr2.fillna(round(X0_iqr.mean(),1))\n",
        "X0_iqr2.isnull().sum()"
      ],
      "metadata": {
        "colab": {
          "base_uri": "https://localhost:8080/"
        },
        "id": "IzEtXTs2xJs8",
        "outputId": "8fd2715b-bacc-4a6f-e1d1-1caef283c887"
      },
      "execution_count": 65,
      "outputs": [
        {
          "output_type": "execute_result",
          "data": {
            "text/plain": [
              "TC          0\n",
              "IMPORTE     0\n",
              "IVA         0\n",
              "TIPO        0\n",
              "Columna1    0\n",
              "dtype: int64"
            ]
          },
          "metadata": {},
          "execution_count": 65
        }
      ]
    },
    {
      "cell_type": "code",
      "source": [
        "Datos_limpios0 = pd.concat([y0, X0_iqr2], axis=1)\n",
        "Datos_limpios0.to_csv('gastos_costos_2020_nulos_outliers.csv')\n",
        "Datos_limpios0"
      ],
      "metadata": {
        "colab": {
          "base_uri": "https://localhost:8080/",
          "height": 1000
        },
        "id": "vqtZdb5Lxh8z",
        "outputId": "26e0655b-8887-46d4-f716-e6411b09c4a2"
      },
      "execution_count": 76,
      "outputs": [
        {
          "output_type": "execute_result",
          "data": {
            "text/plain": [
              "           FECHA                FOLIO                                  UUID  \\\n",
              "0     2020-01-01                39408  BD20F436-72CC-4BE2-AD37-5999D71AA391   \n",
              "1     2020-01-01  1010100750847110016  85AEAC2E-6395-44A0-9CB9-754D06893375   \n",
              "2     2020-01-01  1010100752163709952  BD0DFE85-D776-41CB-9C5C-4FA7923E687A   \n",
              "3     2020-01-01                 3663  EF4504D6-830D-415C-AF03-80CF54C5E28E   \n",
              "4     2020-01-01                 2849  EC2F4AA4-BA64-4E2E-A5B7-4EBBE042D6D3   \n",
              "...          ...                  ...                                   ...   \n",
              "3337  2020-12-01               125834  80BCB1D8-673F-495B-9C2A-4AC9F9CB38E5   \n",
              "3338  2020-12-01                37652  D4C7C1FB-03A7-4046-A2BD-03EBE7DA861E   \n",
              "3339  2020-12-01                  160  FFCEE7D4-1F38-4D44-BE02-EB042DAACEE7   \n",
              "3340  2020-12-01               634875  8DFF4F01-2F8B-4085-B116-05A314108B02   \n",
              "3341  2020-12-01              1044477  F18225D6-4024-4F03-A15A-D18917386D59   \n",
              "\n",
              "               RFC                                          PROVEEDOR  \\\n",
              "0     ARE080115PBA                                ARSI RENTA SA DE CV   \n",
              "1     BNM840515VB1                     BANCO NACIONAL DE MEXICO, S.A.   \n",
              "2     BNM840515VB1                     BANCO NACIONAL DE MEXICO, S.A.   \n",
              "3     PSS120625C86  PROMOTORA DE SERVICIOS Y SOLUCIONES EMPRESARIA...   \n",
              "4     ENA7006081P0                   ELECTROTERMICA NACIONAL SA DE CV   \n",
              "...            ...                                                ...   \n",
              "3337  SQS110113MU0                   SERVICIO QUINTANA SUR S.A DE C.V   \n",
              "3338  PSQ790724C90  CIA. PERIODISTICA DEL SOL DE QUERETARO, S.A. D...   \n",
              "3339  SQX981027RY5                            SUPER Q, S. A. DE C. V.   \n",
              "3340  BIN940223KE0  BANCO INVEX, S.A., INSTITUCION DE BANCA MULTIP...   \n",
              "3341  EFE8908015L3                      EFECTIVALE S. de R.L. de C.V.   \n",
              "\n",
              "                TIPO GASTO   GASTO  \\\n",
              "0               MAQUINARIA       0   \n",
              "1        COMISION BANCARIA       0   \n",
              "2        COMISION BANCARIA       0   \n",
              "3     HONORARIOS CONTABLES       0   \n",
              "4                  COMPRAS       0   \n",
              "...                    ...     ...   \n",
              "3337           COMBUSTIBLE   G VTA   \n",
              "3338            PUBLICIDAD   G VTA   \n",
              "3339             ALIMENTOS   G VTA   \n",
              "3340     COMISION BANCARIA  G FINA   \n",
              "3341           COMBUSTIBLE   G VTA   \n",
              "\n",
              "                                            DESCRIPCION RET ISR RET IVA  \\\n",
              "0     Descripción: REVOLVEDORA, Modelo: ULTRAMP9A, M...       -       0   \n",
              "1                                      COMISION COBRADA       -       -   \n",
              "2                                      COMISION COBRADA       -       -   \n",
              "3      HONORARIOS CONTABLES\\nDEL MES DE ENERO DEL 2020.       -       -   \n",
              "4                                                  Pago       -       -   \n",
              "...                                                 ...     ...     ...   \n",
              "3337                                        32011 MAGNA       -       -   \n",
              "3338   82101504-PUBLICIDAD EN PERIODICOSCALOR Y CONTROL       -       -   \n",
              "3339                  REF VICTORIA GROSELLA 3 LT PET NR       -       -   \n",
              "3340                             COMISIONES E INTERESES       -       -   \n",
              "3341  CONSUMOS DE COMBUSTIBLE DE MONEDEROS ELECTRONICOS       -       -   \n",
              "\n",
              "      TOTAL MX TOTAL SAT   STATUS   TC  IMPORTE     IVA    TIPO  Columna1  \n",
              "0      2248.28     16300  Vigente  1.0     0.00  144.90  144.90       0.0  \n",
              "1        568.4     568.4  Vigente  1.0   490.00   78.40   78.40       0.0  \n",
              "2        226.2     226.2  Vigente  1.0   195.00   31.20   31.20       0.0  \n",
              "3     12405.33  12405.33  Vigente  1.0  1078.30  144.90  144.90       0.0  \n",
              "4            -         -  Vigente  1.0     0.00    0.00    0.00       0.0  \n",
              "...        ...       ...      ...  ...      ...     ...     ...       ...  \n",
              "3337       150       150  Vigente  1.0   129.79   20.21   20.21       0.0  \n",
              "3338   2650.37   2650.37  Vigente  1.0  2284.80  365.57  365.57       0.0  \n",
              "3339       190       190  Vigente  1.0   163.79   26.21   26.21       0.0  \n",
              "3340         -         -  Vigente  1.0     0.00    0.00    0.00       0.0  \n",
              "3341  14889.29  14889.29  Vigente  1.0  1078.30    0.00    0.00       0.0  \n",
              "\n",
              "[3342 rows x 18 columns]"
            ],
            "text/html": [
              "\n",
              "  <div id=\"df-a0481425-e832-4d4e-889d-499f87b65e93\">\n",
              "    <div class=\"colab-df-container\">\n",
              "      <div>\n",
              "<style scoped>\n",
              "    .dataframe tbody tr th:only-of-type {\n",
              "        vertical-align: middle;\n",
              "    }\n",
              "\n",
              "    .dataframe tbody tr th {\n",
              "        vertical-align: top;\n",
              "    }\n",
              "\n",
              "    .dataframe thead th {\n",
              "        text-align: right;\n",
              "    }\n",
              "</style>\n",
              "<table border=\"1\" class=\"dataframe\">\n",
              "  <thead>\n",
              "    <tr style=\"text-align: right;\">\n",
              "      <th></th>\n",
              "      <th>FECHA</th>\n",
              "      <th>FOLIO</th>\n",
              "      <th>UUID</th>\n",
              "      <th>RFC</th>\n",
              "      <th>PROVEEDOR</th>\n",
              "      <th>TIPO GASTO</th>\n",
              "      <th>GASTO</th>\n",
              "      <th>DESCRIPCION</th>\n",
              "      <th>RET ISR</th>\n",
              "      <th>RET IVA</th>\n",
              "      <th>TOTAL MX</th>\n",
              "      <th>TOTAL SAT</th>\n",
              "      <th>STATUS</th>\n",
              "      <th>TC</th>\n",
              "      <th>IMPORTE</th>\n",
              "      <th>IVA</th>\n",
              "      <th>TIPO</th>\n",
              "      <th>Columna1</th>\n",
              "    </tr>\n",
              "  </thead>\n",
              "  <tbody>\n",
              "    <tr>\n",
              "      <th>0</th>\n",
              "      <td>2020-01-01</td>\n",
              "      <td>39408</td>\n",
              "      <td>BD20F436-72CC-4BE2-AD37-5999D71AA391</td>\n",
              "      <td>ARE080115PBA</td>\n",
              "      <td>ARSI RENTA SA DE CV</td>\n",
              "      <td>MAQUINARIA</td>\n",
              "      <td>0</td>\n",
              "      <td>Descripción: REVOLVEDORA, Modelo: ULTRAMP9A, M...</td>\n",
              "      <td>-</td>\n",
              "      <td>0</td>\n",
              "      <td>2248.28</td>\n",
              "      <td>16300</td>\n",
              "      <td>Vigente</td>\n",
              "      <td>1.0</td>\n",
              "      <td>0.00</td>\n",
              "      <td>144.90</td>\n",
              "      <td>144.90</td>\n",
              "      <td>0.0</td>\n",
              "    </tr>\n",
              "    <tr>\n",
              "      <th>1</th>\n",
              "      <td>2020-01-01</td>\n",
              "      <td>1010100750847110016</td>\n",
              "      <td>85AEAC2E-6395-44A0-9CB9-754D06893375</td>\n",
              "      <td>BNM840515VB1</td>\n",
              "      <td>BANCO NACIONAL DE MEXICO, S.A.</td>\n",
              "      <td>COMISION BANCARIA</td>\n",
              "      <td>0</td>\n",
              "      <td>COMISION COBRADA</td>\n",
              "      <td>-</td>\n",
              "      <td>-</td>\n",
              "      <td>568.4</td>\n",
              "      <td>568.4</td>\n",
              "      <td>Vigente</td>\n",
              "      <td>1.0</td>\n",
              "      <td>490.00</td>\n",
              "      <td>78.40</td>\n",
              "      <td>78.40</td>\n",
              "      <td>0.0</td>\n",
              "    </tr>\n",
              "    <tr>\n",
              "      <th>2</th>\n",
              "      <td>2020-01-01</td>\n",
              "      <td>1010100752163709952</td>\n",
              "      <td>BD0DFE85-D776-41CB-9C5C-4FA7923E687A</td>\n",
              "      <td>BNM840515VB1</td>\n",
              "      <td>BANCO NACIONAL DE MEXICO, S.A.</td>\n",
              "      <td>COMISION BANCARIA</td>\n",
              "      <td>0</td>\n",
              "      <td>COMISION COBRADA</td>\n",
              "      <td>-</td>\n",
              "      <td>-</td>\n",
              "      <td>226.2</td>\n",
              "      <td>226.2</td>\n",
              "      <td>Vigente</td>\n",
              "      <td>1.0</td>\n",
              "      <td>195.00</td>\n",
              "      <td>31.20</td>\n",
              "      <td>31.20</td>\n",
              "      <td>0.0</td>\n",
              "    </tr>\n",
              "    <tr>\n",
              "      <th>3</th>\n",
              "      <td>2020-01-01</td>\n",
              "      <td>3663</td>\n",
              "      <td>EF4504D6-830D-415C-AF03-80CF54C5E28E</td>\n",
              "      <td>PSS120625C86</td>\n",
              "      <td>PROMOTORA DE SERVICIOS Y SOLUCIONES EMPRESARIA...</td>\n",
              "      <td>HONORARIOS CONTABLES</td>\n",
              "      <td>0</td>\n",
              "      <td>HONORARIOS CONTABLES\\nDEL MES DE ENERO DEL 2020.</td>\n",
              "      <td>-</td>\n",
              "      <td>-</td>\n",
              "      <td>12405.33</td>\n",
              "      <td>12405.33</td>\n",
              "      <td>Vigente</td>\n",
              "      <td>1.0</td>\n",
              "      <td>1078.30</td>\n",
              "      <td>144.90</td>\n",
              "      <td>144.90</td>\n",
              "      <td>0.0</td>\n",
              "    </tr>\n",
              "    <tr>\n",
              "      <th>4</th>\n",
              "      <td>2020-01-01</td>\n",
              "      <td>2849</td>\n",
              "      <td>EC2F4AA4-BA64-4E2E-A5B7-4EBBE042D6D3</td>\n",
              "      <td>ENA7006081P0</td>\n",
              "      <td>ELECTROTERMICA NACIONAL SA DE CV</td>\n",
              "      <td>COMPRAS</td>\n",
              "      <td>0</td>\n",
              "      <td>Pago</td>\n",
              "      <td>-</td>\n",
              "      <td>-</td>\n",
              "      <td>-</td>\n",
              "      <td>-</td>\n",
              "      <td>Vigente</td>\n",
              "      <td>1.0</td>\n",
              "      <td>0.00</td>\n",
              "      <td>0.00</td>\n",
              "      <td>0.00</td>\n",
              "      <td>0.0</td>\n",
              "    </tr>\n",
              "    <tr>\n",
              "      <th>...</th>\n",
              "      <td>...</td>\n",
              "      <td>...</td>\n",
              "      <td>...</td>\n",
              "      <td>...</td>\n",
              "      <td>...</td>\n",
              "      <td>...</td>\n",
              "      <td>...</td>\n",
              "      <td>...</td>\n",
              "      <td>...</td>\n",
              "      <td>...</td>\n",
              "      <td>...</td>\n",
              "      <td>...</td>\n",
              "      <td>...</td>\n",
              "      <td>...</td>\n",
              "      <td>...</td>\n",
              "      <td>...</td>\n",
              "      <td>...</td>\n",
              "      <td>...</td>\n",
              "    </tr>\n",
              "    <tr>\n",
              "      <th>3337</th>\n",
              "      <td>2020-12-01</td>\n",
              "      <td>125834</td>\n",
              "      <td>80BCB1D8-673F-495B-9C2A-4AC9F9CB38E5</td>\n",
              "      <td>SQS110113MU0</td>\n",
              "      <td>SERVICIO QUINTANA SUR S.A DE C.V</td>\n",
              "      <td>COMBUSTIBLE</td>\n",
              "      <td>G VTA</td>\n",
              "      <td>32011 MAGNA</td>\n",
              "      <td>-</td>\n",
              "      <td>-</td>\n",
              "      <td>150</td>\n",
              "      <td>150</td>\n",
              "      <td>Vigente</td>\n",
              "      <td>1.0</td>\n",
              "      <td>129.79</td>\n",
              "      <td>20.21</td>\n",
              "      <td>20.21</td>\n",
              "      <td>0.0</td>\n",
              "    </tr>\n",
              "    <tr>\n",
              "      <th>3338</th>\n",
              "      <td>2020-12-01</td>\n",
              "      <td>37652</td>\n",
              "      <td>D4C7C1FB-03A7-4046-A2BD-03EBE7DA861E</td>\n",
              "      <td>PSQ790724C90</td>\n",
              "      <td>CIA. PERIODISTICA DEL SOL DE QUERETARO, S.A. D...</td>\n",
              "      <td>PUBLICIDAD</td>\n",
              "      <td>G VTA</td>\n",
              "      <td>82101504-PUBLICIDAD EN PERIODICOSCALOR Y CONTROL</td>\n",
              "      <td>-</td>\n",
              "      <td>-</td>\n",
              "      <td>2650.37</td>\n",
              "      <td>2650.37</td>\n",
              "      <td>Vigente</td>\n",
              "      <td>1.0</td>\n",
              "      <td>2284.80</td>\n",
              "      <td>365.57</td>\n",
              "      <td>365.57</td>\n",
              "      <td>0.0</td>\n",
              "    </tr>\n",
              "    <tr>\n",
              "      <th>3339</th>\n",
              "      <td>2020-12-01</td>\n",
              "      <td>160</td>\n",
              "      <td>FFCEE7D4-1F38-4D44-BE02-EB042DAACEE7</td>\n",
              "      <td>SQX981027RY5</td>\n",
              "      <td>SUPER Q, S. A. DE C. V.</td>\n",
              "      <td>ALIMENTOS</td>\n",
              "      <td>G VTA</td>\n",
              "      <td>REF VICTORIA GROSELLA 3 LT PET NR</td>\n",
              "      <td>-</td>\n",
              "      <td>-</td>\n",
              "      <td>190</td>\n",
              "      <td>190</td>\n",
              "      <td>Vigente</td>\n",
              "      <td>1.0</td>\n",
              "      <td>163.79</td>\n",
              "      <td>26.21</td>\n",
              "      <td>26.21</td>\n",
              "      <td>0.0</td>\n",
              "    </tr>\n",
              "    <tr>\n",
              "      <th>3340</th>\n",
              "      <td>2020-12-01</td>\n",
              "      <td>634875</td>\n",
              "      <td>8DFF4F01-2F8B-4085-B116-05A314108B02</td>\n",
              "      <td>BIN940223KE0</td>\n",
              "      <td>BANCO INVEX, S.A., INSTITUCION DE BANCA MULTIP...</td>\n",
              "      <td>COMISION BANCARIA</td>\n",
              "      <td>G FINA</td>\n",
              "      <td>COMISIONES E INTERESES</td>\n",
              "      <td>-</td>\n",
              "      <td>-</td>\n",
              "      <td>-</td>\n",
              "      <td>-</td>\n",
              "      <td>Vigente</td>\n",
              "      <td>1.0</td>\n",
              "      <td>0.00</td>\n",
              "      <td>0.00</td>\n",
              "      <td>0.00</td>\n",
              "      <td>0.0</td>\n",
              "    </tr>\n",
              "    <tr>\n",
              "      <th>3341</th>\n",
              "      <td>2020-12-01</td>\n",
              "      <td>1044477</td>\n",
              "      <td>F18225D6-4024-4F03-A15A-D18917386D59</td>\n",
              "      <td>EFE8908015L3</td>\n",
              "      <td>EFECTIVALE S. de R.L. de C.V.</td>\n",
              "      <td>COMBUSTIBLE</td>\n",
              "      <td>G VTA</td>\n",
              "      <td>CONSUMOS DE COMBUSTIBLE DE MONEDEROS ELECTRONICOS</td>\n",
              "      <td>-</td>\n",
              "      <td>-</td>\n",
              "      <td>14889.29</td>\n",
              "      <td>14889.29</td>\n",
              "      <td>Vigente</td>\n",
              "      <td>1.0</td>\n",
              "      <td>1078.30</td>\n",
              "      <td>0.00</td>\n",
              "      <td>0.00</td>\n",
              "      <td>0.0</td>\n",
              "    </tr>\n",
              "  </tbody>\n",
              "</table>\n",
              "<p>3342 rows × 18 columns</p>\n",
              "</div>\n",
              "      <button class=\"colab-df-convert\" onclick=\"convertToInteractive('df-a0481425-e832-4d4e-889d-499f87b65e93')\"\n",
              "              title=\"Convert this dataframe to an interactive table.\"\n",
              "              style=\"display:none;\">\n",
              "        \n",
              "  <svg xmlns=\"http://www.w3.org/2000/svg\" height=\"24px\"viewBox=\"0 0 24 24\"\n",
              "       width=\"24px\">\n",
              "    <path d=\"M0 0h24v24H0V0z\" fill=\"none\"/>\n",
              "    <path d=\"M18.56 5.44l.94 2.06.94-2.06 2.06-.94-2.06-.94-.94-2.06-.94 2.06-2.06.94zm-11 1L8.5 8.5l.94-2.06 2.06-.94-2.06-.94L8.5 2.5l-.94 2.06-2.06.94zm10 10l.94 2.06.94-2.06 2.06-.94-2.06-.94-.94-2.06-.94 2.06-2.06.94z\"/><path d=\"M17.41 7.96l-1.37-1.37c-.4-.4-.92-.59-1.43-.59-.52 0-1.04.2-1.43.59L10.3 9.45l-7.72 7.72c-.78.78-.78 2.05 0 2.83L4 21.41c.39.39.9.59 1.41.59.51 0 1.02-.2 1.41-.59l7.78-7.78 2.81-2.81c.8-.78.8-2.07 0-2.86zM5.41 20L4 18.59l7.72-7.72 1.47 1.35L5.41 20z\"/>\n",
              "  </svg>\n",
              "      </button>\n",
              "      \n",
              "  <style>\n",
              "    .colab-df-container {\n",
              "      display:flex;\n",
              "      flex-wrap:wrap;\n",
              "      gap: 12px;\n",
              "    }\n",
              "\n",
              "    .colab-df-convert {\n",
              "      background-color: #E8F0FE;\n",
              "      border: none;\n",
              "      border-radius: 50%;\n",
              "      cursor: pointer;\n",
              "      display: none;\n",
              "      fill: #1967D2;\n",
              "      height: 32px;\n",
              "      padding: 0 0 0 0;\n",
              "      width: 32px;\n",
              "    }\n",
              "\n",
              "    .colab-df-convert:hover {\n",
              "      background-color: #E2EBFA;\n",
              "      box-shadow: 0px 1px 2px rgba(60, 64, 67, 0.3), 0px 1px 3px 1px rgba(60, 64, 67, 0.15);\n",
              "      fill: #174EA6;\n",
              "    }\n",
              "\n",
              "    [theme=dark] .colab-df-convert {\n",
              "      background-color: #3B4455;\n",
              "      fill: #D2E3FC;\n",
              "    }\n",
              "\n",
              "    [theme=dark] .colab-df-convert:hover {\n",
              "      background-color: #434B5C;\n",
              "      box-shadow: 0px 1px 3px 1px rgba(0, 0, 0, 0.15);\n",
              "      filter: drop-shadow(0px 1px 2px rgba(0, 0, 0, 0.3));\n",
              "      fill: #FFFFFF;\n",
              "    }\n",
              "  </style>\n",
              "\n",
              "      <script>\n",
              "        const buttonEl =\n",
              "          document.querySelector('#df-a0481425-e832-4d4e-889d-499f87b65e93 button.colab-df-convert');\n",
              "        buttonEl.style.display =\n",
              "          google.colab.kernel.accessAllowed ? 'block' : 'none';\n",
              "\n",
              "        async function convertToInteractive(key) {\n",
              "          const element = document.querySelector('#df-a0481425-e832-4d4e-889d-499f87b65e93');\n",
              "          const dataTable =\n",
              "            await google.colab.kernel.invokeFunction('convertToInteractive',\n",
              "                                                     [key], {});\n",
              "          if (!dataTable) return;\n",
              "\n",
              "          const docLinkHtml = 'Like what you see? Visit the ' +\n",
              "            '<a target=\"_blank\" href=https://colab.research.google.com/notebooks/data_table.ipynb>data table notebook</a>'\n",
              "            + ' to learn more about interactive tables.';\n",
              "          element.innerHTML = '';\n",
              "          dataTable['output_type'] = 'display_data';\n",
              "          await google.colab.output.renderOutput(dataTable, element);\n",
              "          const docLink = document.createElement('div');\n",
              "          docLink.innerHTML = docLinkHtml;\n",
              "          element.appendChild(docLink);\n",
              "        }\n",
              "      </script>\n",
              "    </div>\n",
              "  </div>\n",
              "  "
            ]
          },
          "metadata": {},
          "execution_count": 76
        }
      ]
    },
    {
      "cell_type": "code",
      "source": [
        "#Realizamos diagrama de caja o bigote de cada columna del dataframe\n",
        "fig = plt.figure(figsize =(15, 8))\n",
        "Datos_limpios0.plot(kind='box', vert=False)\n",
        "plt.title(\"Valores Atípicos del Dataframe\")\n",
        "plt.show()"
      ],
      "metadata": {
        "colab": {
          "base_uri": "https://localhost:8080/",
          "height": 470
        },
        "id": "5sz6aWLFybqL",
        "outputId": "00b49471-a29f-42d3-9b49-fe295ef67a9b"
      },
      "execution_count": 67,
      "outputs": [
        {
          "output_type": "display_data",
          "data": {
            "text/plain": [
              "<Figure size 1500x800 with 0 Axes>"
            ]
          },
          "metadata": {}
        },
        {
          "output_type": "display_data",
          "data": {
            "text/plain": [
              "<Figure size 640x480 with 1 Axes>"
            ],
            "image/png": "[encoded data removed]"
          },
          "metadata": {}
        }
      ]
    },
    {
      "cell_type": "markdown",
      "source": [
        "## Año 2021"
      ],
      "metadata": {
        "id": "CSd_dOJgxygu"
      }
    },
    {
      "cell_type": "code",
      "source": [
        "gc1.info()"
      ],
      "metadata": {
        "colab": {
          "base_uri": "https://localhost:8080/"
        },
        "id": "aSFaG-jox0GT",
        "outputId": "b4b2fea2-6df3-4539-afe0-9ea95a401731"
      },
      "execution_count": 68,
      "outputs": [
        {
          "output_type": "stream",
          "name": "stdout",
          "text": [
            "<class 'pandas.core.frame.DataFrame'>\n",
            "RangeIndex: 1501 entries, 0 to 1500\n",
            "Data columns (total 5 columns):\n",
            " #   Column      Non-Null Count  Dtype  \n",
            "---  ------      --------------  -----  \n",
            " 0   Unnamed: 0  1501 non-null   int64  \n",
            " 1   FECHA       1501 non-null   object \n",
            " 2   TIPO GASTO  1501 non-null   object \n",
            " 3   TC          1501 non-null   float64\n",
            " 4   TOTAL SAT   1501 non-null   float64\n",
            "dtypes: float64(2), int64(1), object(2)\n",
            "memory usage: 58.8+ KB\n"
          ]
        }
      ]
    },
    {
      "cell_type": "code",
      "source": [
        "#Columnas numéricas\n",
        "X1=gc1.iloc[:,[3,4]]\n",
        "\n",
        "#Columnas objeto\n",
        "y1=gc1.iloc[:,[1,2]]"
      ],
      "metadata": {
        "id": "yzA0eMcHx4C3"
      },
      "execution_count": 69,
      "outputs": []
    },
    {
      "cell_type": "code",
      "source": [
        "#Realizamos diagrama de caja o bigote de cada columna del dataframe\n",
        "fig = plt.figure(figsize =(15, 8))\n",
        "X1.plot(kind='box', vert=False)\n",
        "plt.title(\"Valores Atípicos del Dataframe\")\n",
        "plt.show()"
      ],
      "metadata": {
        "colab": {
          "base_uri": "https://localhost:8080/",
          "height": 470
        },
        "id": "UxCMddy5yGl0",
        "outputId": "1465b2ee-8b0e-47fc-b83c-32bee5a5b330"
      },
      "execution_count": 70,
      "outputs": [
        {
          "output_type": "display_data",
          "data": {
            "text/plain": [
              "<Figure size 1500x800 with 0 Axes>"
            ]
          },
          "metadata": {}
        },
        {
          "output_type": "display_data",
          "data": {
            "text/plain": [
              "<Figure size 640x480 with 1 Axes>"
            ],
            "image/png": "[encoded data removed]"
          },
          "metadata": {}
        }
      ]
    },
    {
      "cell_type": "markdown",
      "source": [
        "**Proceso de desviación estándar**"
      ],
      "metadata": {
        "id": "3nw2lq2zyNNo"
      }
    },
    {
      "cell_type": "code",
      "source": [
        "y=X1\n",
        "Limite_Superior= y.mean() + 3*y.std()\n",
        "Limite_Inferior= y.mean() - 3*y.std()\n",
        "outliers= X1[(y>Limite_Superior)|(y<Limite_Inferior)]\n",
        "#Outliers como nulos\n",
        "X1_n= X1[(y<=Limite_Superior)&(y>=Limite_Inferior)]\n",
        "X1_n.isnull().sum()"
      ],
      "metadata": {
        "colab": {
          "base_uri": "https://localhost:8080/"
        },
        "id": "34Dsn1D4yQ5S",
        "outputId": "e0167688-daa7-4bae-84f8-61d13dbfe3fd"
      },
      "execution_count": 71,
      "outputs": [
        {
          "output_type": "execute_result",
          "data": {
            "text/plain": [
              "TC           16\n",
              "TOTAL SAT    18\n",
              "dtype: int64"
            ]
          },
          "metadata": {},
          "execution_count": 71
        }
      ]
    },
    {
      "cell_type": "code",
      "source": [
        "#Cambiamos los datos nulos (antes atípicos) por media\n",
        "X1_clean=X1_n.copy()\n",
        "X1_clean=X1_clean.fillna(round(X1_n.mean(),1))\n",
        "X1_clean.isnull().sum()"
      ],
      "metadata": {
        "colab": {
          "base_uri": "https://localhost:8080/"
        },
        "id": "8mIkTfO2ylCd",
        "outputId": "33cda61f-c81e-44af-e831-b082c07eabf1"
      },
      "execution_count": 72,
      "outputs": [
        {
          "output_type": "execute_result",
          "data": {
            "text/plain": [
              "TC           0\n",
              "TOTAL SAT    0\n",
              "dtype: int64"
            ]
          },
          "metadata": {},
          "execution_count": 72
        }
      ]
    },
    {
      "cell_type": "code",
      "source": [
        "Datos_limpios1d = pd.concat([y1, X1_clean], axis=1)\n",
        "Datos_limpios1d.to_csv('gastos_costos_2021_nulos_outliers_de.csv')\n",
        "Datos_limpios1d"
      ],
      "metadata": {
        "colab": {
          "base_uri": "https://localhost:8080/",
          "height": 423
        },
        "id": "8YjjUanr3KVa",
        "outputId": "548af0d9-b52c-47ea-dec5-ba8818c9048d"
      },
      "execution_count": 98,
      "outputs": [
        {
          "output_type": "execute_result",
          "data": {
            "text/plain": [
              "           FECHA                TIPO GASTO   TC  TOTAL SAT\n",
              "0     2021-01-01         COMISION BANCARIA  1.0     568.40\n",
              "1     2021-01-01         COMISION BANCARIA  1.0     400.20\n",
              "2     2021-01-01  ARRENDAMIENTO FINANCIERO  1.0    6439.60\n",
              "3     2021-01-01  ARRENDAMIENTO FINANCIERO  1.0    6440.30\n",
              "4     2021-01-01              NO DEDUCIBLE  1.0     599.00\n",
              "...          ...                       ...  ...        ...\n",
              "1496  2021-12-01                PUBLICIDAD  1.0       0.00\n",
              "1497  2021-12-01                PUBLICIDAD  1.0       0.00\n",
              "1498  2021-12-01         COMISION BANCARIA  1.0   23532.04\n",
              "1499  2021-12-01         COMISION BANCARIA  1.0       0.00\n",
              "1500  2021-12-01                  GASOLINA  1.0   15656.15\n",
              "\n",
              "[1501 rows x 4 columns]"
            ],
            "text/html": [
              "\n",
              "  <div id=\"df-056638f5-e4c7-4784-ac44-64da5653020a\">\n",
              "    <div class=\"colab-df-container\">\n",
              "      <div>\n",
              "<style scoped>\n",
              "    .dataframe tbody tr th:only-of-type {\n",
              "        vertical-align: middle;\n",
              "    }\n",
              "\n",
              "    .dataframe tbody tr th {\n",
              "        vertical-align: top;\n",
              "    }\n",
              "\n",
              "    .dataframe thead th {\n",
              "        text-align: right;\n",
              "    }\n",
              "</style>\n",
              "<table border=\"1\" class=\"dataframe\">\n",
              "  <thead>\n",
              "    <tr style=\"text-align: right;\">\n",
              "      <th></th>\n",
              "      <th>FECHA</th>\n",
              "      <th>TIPO GASTO</th>\n",
              "      <th>TC</th>\n",
              "      <th>TOTAL SAT</th>\n",
              "    </tr>\n",
              "  </thead>\n",
              "  <tbody>\n",
              "    <tr>\n",
              "      <th>0</th>\n",
              "      <td>2021-01-01</td>\n",
              "      <td>COMISION BANCARIA</td>\n",
              "      <td>1.0</td>\n",
              "      <td>568.40</td>\n",
              "    </tr>\n",
              "    <tr>\n",
              "      <th>1</th>\n",
              "      <td>2021-01-01</td>\n",
              "      <td>COMISION BANCARIA</td>\n",
              "      <td>1.0</td>\n",
              "      <td>400.20</td>\n",
              "    </tr>\n",
              "    <tr>\n",
              "      <th>2</th>\n",
              "      <td>2021-01-01</td>\n",
              "      <td>ARRENDAMIENTO FINANCIERO</td>\n",
              "      <td>1.0</td>\n",
              "      <td>6439.60</td>\n",
              "    </tr>\n",
              "    <tr>\n",
              "      <th>3</th>\n",
              "      <td>2021-01-01</td>\n",
              "      <td>ARRENDAMIENTO FINANCIERO</td>\n",
              "      <td>1.0</td>\n",
              "      <td>6440.30</td>\n",
              "    </tr>\n",
              "    <tr>\n",
              "      <th>4</th>\n",
              "      <td>2021-01-01</td>\n",
              "      <td>NO DEDUCIBLE</td>\n",
              "      <td>1.0</td>\n",
              "      <td>599.00</td>\n",
              "    </tr>\n",
              "    <tr>\n",
              "      <th>...</th>\n",
              "      <td>...</td>\n",
              "      <td>...</td>\n",
              "      <td>...</td>\n",
              "      <td>...</td>\n",
              "    </tr>\n",
              "    <tr>\n",
              "      <th>1496</th>\n",
              "      <td>2021-12-01</td>\n",
              "      <td>PUBLICIDAD</td>\n",
              "      <td>1.0</td>\n",
              "      <td>0.00</td>\n",
              "    </tr>\n",
              "    <tr>\n",
              "      <th>1497</th>\n",
              "      <td>2021-12-01</td>\n",
              "      <td>PUBLICIDAD</td>\n",
              "      <td>1.0</td>\n",
              "      <td>0.00</td>\n",
              "    </tr>\n",
              "    <tr>\n",
              "      <th>1498</th>\n",
              "      <td>2021-12-01</td>\n",
              "      <td>COMISION BANCARIA</td>\n",
              "      <td>1.0</td>\n",
              "      <td>23532.04</td>\n",
              "    </tr>\n",
              "    <tr>\n",
              "      <th>1499</th>\n",
              "      <td>2021-12-01</td>\n",
              "      <td>COMISION BANCARIA</td>\n",
              "      <td>1.0</td>\n",
              "      <td>0.00</td>\n",
              "    </tr>\n",
              "    <tr>\n",
              "      <th>1500</th>\n",
              "      <td>2021-12-01</td>\n",
              "      <td>GASOLINA</td>\n",
              "      <td>1.0</td>\n",
              "      <td>15656.15</td>\n",
              "    </tr>\n",
              "  </tbody>\n",
              "</table>\n",
              "<p>1501 rows × 4 columns</p>\n",
              "</div>\n",
              "      <button class=\"colab-df-convert\" onclick=\"convertToInteractive('df-056638f5-e4c7-4784-ac44-64da5653020a')\"\n",
              "              title=\"Convert this dataframe to an interactive table.\"\n",
              "              style=\"display:none;\">\n",
              "        \n",
              "  <svg xmlns=\"http://www.w3.org/2000/svg\" height=\"24px\"viewBox=\"0 0 24 24\"\n",
              "       width=\"24px\">\n",
              "    <path d=\"M0 0h24v24H0V0z\" fill=\"none\"/>\n",
              "    <path d=\"M18.56 5.44l.94 2.06.94-2.06 2.06-.94-2.06-.94-.94-2.06-.94 2.06-2.06.94zm-11 1L8.5 8.5l.94-2.06 2.06-.94-2.06-.94L8.5 2.5l-.94 2.06-2.06.94zm10 10l.94 2.06.94-2.06 2.06-.94-2.06-.94-.94-2.06-.94 2.06-2.06.94z\"/><path d=\"M17.41 7.96l-1.37-1.37c-.4-.4-.92-.59-1.43-.59-.52 0-1.04.2-1.43.59L10.3 9.45l-7.72 7.72c-.78.78-.78 2.05 0 2.83L4 21.41c.39.39.9.59 1.41.59.51 0 1.02-.2 1.41-.59l7.78-7.78 2.81-2.81c.8-.78.8-2.07 0-2.86zM5.41 20L4 18.59l7.72-7.72 1.47 1.35L5.41 20z\"/>\n",
              "  </svg>\n",
              "      </button>\n",
              "      \n",
              "  <style>\n",
              "    .colab-df-container {\n",
              "      display:flex;\n",
              "      flex-wrap:wrap;\n",
              "      gap: 12px;\n",
              "    }\n",
              "\n",
              "    .colab-df-convert {\n",
              "      background-color: #E8F0FE;\n",
              "      border: none;\n",
              "      border-radius: 50%;\n",
              "      cursor: pointer;\n",
              "      display: none;\n",
              "      fill: #1967D2;\n",
              "      height: 32px;\n",
              "      padding: 0 0 0 0;\n",
              "      width: 32px;\n",
              "    }\n",
              "\n",
              "    .colab-df-convert:hover {\n",
              "      background-color: #E2EBFA;\n",
              "      box-shadow: 0px 1px 2px rgba(60, 64, 67, 0.3), 0px 1px 3px 1px rgba(60, 64, 67, 0.15);\n",
              "      fill: #174EA6;\n",
              "    }\n",
              "\n",
              "    [theme=dark] .colab-df-convert {\n",
              "      background-color: #3B4455;\n",
              "      fill: #D2E3FC;\n",
              "    }\n",
              "\n",
              "    [theme=dark] .colab-df-convert:hover {\n",
              "      background-color: #434B5C;\n",
              "      box-shadow: 0px 1px 3px 1px rgba(0, 0, 0, 0.15);\n",
              "      filter: drop-shadow(0px 1px 2px rgba(0, 0, 0, 0.3));\n",
              "      fill: #FFFFFF;\n",
              "    }\n",
              "  </style>\n",
              "\n",
              "      <script>\n",
              "        const buttonEl =\n",
              "          document.querySelector('#df-056638f5-e4c7-4784-ac44-64da5653020a button.colab-df-convert');\n",
              "        buttonEl.style.display =\n",
              "          google.colab.kernel.accessAllowed ? 'block' : 'none';\n",
              "\n",
              "        async function convertToInteractive(key) {\n",
              "          const element = document.querySelector('#df-056638f5-e4c7-4784-ac44-64da5653020a');\n",
              "          const dataTable =\n",
              "            await google.colab.kernel.invokeFunction('convertToInteractive',\n",
              "                                                     [key], {});\n",
              "          if (!dataTable) return;\n",
              "\n",
              "          const docLinkHtml = 'Like what you see? Visit the ' +\n",
              "            '<a target=\"_blank\" href=https://colab.research.google.com/notebooks/data_table.ipynb>data table notebook</a>'\n",
              "            + ' to learn more about interactive tables.';\n",
              "          element.innerHTML = '';\n",
              "          dataTable['output_type'] = 'display_data';\n",
              "          await google.colab.output.renderOutput(dataTable, element);\n",
              "          const docLink = document.createElement('div');\n",
              "          docLink.innerHTML = docLinkHtml;\n",
              "          element.appendChild(docLink);\n",
              "        }\n",
              "      </script>\n",
              "    </div>\n",
              "  </div>\n",
              "  "
            ]
          },
          "metadata": {},
          "execution_count": 98
        }
      ]
    },
    {
      "cell_type": "markdown",
      "source": [
        "**Proceso intercuartílico**"
      ],
      "metadata": {
        "id": "rY6p6Ur7yqxX"
      }
    },
    {
      "cell_type": "code",
      "source": [
        "#Método aplicando Cuartiles. Encuentro cuartiles 0.25 y 0.75\n",
        "y=X1\n",
        "percentile25=y.quantile(0.25) #Q1\n",
        "percentile75=y.quantile(0.75) #Q3\n",
        "iqr= percentile75 - percentile25\n",
        "Limite_Superior_iqr= percentile75 + 1.5*iqr\n",
        "Limite_Inferior_iqr= percentile25 - 1.5*iqr\n",
        "outliers_iqr= X1[(y>Limite_Superior_iqr)|(y<Limite_Inferior_iqr)]\n",
        "#Obtenemos datos limpios del Dataframe\n",
        "X1_iqr= X1[(y<=Limite_Superior_iqr)&(y>=Limite_Inferior_iqr)]\n",
        "X1_iqr.isnull().sum()"
      ],
      "metadata": {
        "colab": {
          "base_uri": "https://localhost:8080/"
        },
        "id": "gSsMUfceyw75",
        "outputId": "7a2ef725-3e9e-4c92-b985-d49e44261096"
      },
      "execution_count": 73,
      "outputs": [
        {
          "output_type": "execute_result",
          "data": {
            "text/plain": [
              "TC            16\n",
              "TOTAL SAT    229\n",
              "dtype: int64"
            ]
          },
          "metadata": {},
          "execution_count": 73
        }
      ]
    },
    {
      "cell_type": "code",
      "source": [
        "#Reemplazamos valores nulos (atípicos) con la media\n",
        "X1_iqr2=X1_iqr.copy()\n",
        "X1_iqr2=X1_iqr2.fillna(round(X1_iqr.mean(),1))\n",
        "X1_iqr2.isnull().sum()"
      ],
      "metadata": {
        "colab": {
          "base_uri": "https://localhost:8080/"
        },
        "id": "7iudt5HSy3IS",
        "outputId": "528c5cb5-8c72-4fa5-b5aa-477f9d6455f3"
      },
      "execution_count": 74,
      "outputs": [
        {
          "output_type": "execute_result",
          "data": {
            "text/plain": [
              "TC           0\n",
              "TOTAL SAT    0\n",
              "dtype: int64"
            ]
          },
          "metadata": {},
          "execution_count": 74
        }
      ]
    },
    {
      "cell_type": "code",
      "source": [
        "Datos_limpios1 = pd.concat([y1, X1_iqr2], axis=1)\n",
        "Datos_limpios1.to_csv('gastos_costos_2021_nulos_outliers.csv')\n",
        "Datos_limpios1"
      ],
      "metadata": {
        "colab": {
          "base_uri": "https://localhost:8080/",
          "height": 423
        },
        "id": "5E2Si8_wy9us",
        "outputId": "02a211ec-ae08-4665-a5b1-ec73f4abfdc7"
      },
      "execution_count": 77,
      "outputs": [
        {
          "output_type": "execute_result",
          "data": {
            "text/plain": [
              "           FECHA                TIPO GASTO   TC  TOTAL SAT\n",
              "0     2021-01-01         COMISION BANCARIA  1.0      568.4\n",
              "1     2021-01-01         COMISION BANCARIA  1.0      400.2\n",
              "2     2021-01-01  ARRENDAMIENTO FINANCIERO  1.0     6439.6\n",
              "3     2021-01-01  ARRENDAMIENTO FINANCIERO  1.0     6440.3\n",
              "4     2021-01-01              NO DEDUCIBLE  1.0      599.0\n",
              "...          ...                       ...  ...        ...\n",
              "1496  2021-12-01                PUBLICIDAD  1.0        0.0\n",
              "1497  2021-12-01                PUBLICIDAD  1.0        0.0\n",
              "1498  2021-12-01         COMISION BANCARIA  1.0     1528.0\n",
              "1499  2021-12-01         COMISION BANCARIA  1.0        0.0\n",
              "1500  2021-12-01                  GASOLINA  1.0     1528.0\n",
              "\n",
              "[1501 rows x 4 columns]"
            ],
            "text/html": [
              "\n",
              "  <div id=\"df-3cfd7985-98a3-4491-910b-c91fe209c1be\">\n",
              "    <div class=\"colab-df-container\">\n",
              "      <div>\n",
              "<style scoped>\n",
              "    .dataframe tbody tr th:only-of-type {\n",
              "        vertical-align: middle;\n",
              "    }\n",
              "\n",
              "    .dataframe tbody tr th {\n",
              "        vertical-align: top;\n",
              "    }\n",
              "\n",
              "    .dataframe thead th {\n",
              "        text-align: right;\n",
              "    }\n",
              "</style>\n",
              "<table border=\"1\" class=\"dataframe\">\n",
              "  <thead>\n",
              "    <tr style=\"text-align: right;\">\n",
              "      <th></th>\n",
              "      <th>FECHA</th>\n",
              "      <th>TIPO GASTO</th>\n",
              "      <th>TC</th>\n",
              "      <th>TOTAL SAT</th>\n",
              "    </tr>\n",
              "  </thead>\n",
              "  <tbody>\n",
              "    <tr>\n",
              "      <th>0</th>\n",
              "      <td>2021-01-01</td>\n",
              "      <td>COMISION BANCARIA</td>\n",
              "      <td>1.0</td>\n",
              "      <td>568.4</td>\n",
              "    </tr>\n",
              "    <tr>\n",
              "      <th>1</th>\n",
              "      <td>2021-01-01</td>\n",
              "      <td>COMISION BANCARIA</td>\n",
              "      <td>1.0</td>\n",
              "      <td>400.2</td>\n",
              "    </tr>\n",
              "    <tr>\n",
              "      <th>2</th>\n",
              "      <td>2021-01-01</td>\n",
              "      <td>ARRENDAMIENTO FINANCIERO</td>\n",
              "      <td>1.0</td>\n",
              "      <td>6439.6</td>\n",
              "    </tr>\n",
              "    <tr>\n",
              "      <th>3</th>\n",
              "      <td>2021-01-01</td>\n",
              "      <td>ARRENDAMIENTO FINANCIERO</td>\n",
              "      <td>1.0</td>\n",
              "      <td>6440.3</td>\n",
              "    </tr>\n",
              "    <tr>\n",
              "      <th>4</th>\n",
              "      <td>2021-01-01</td>\n",
              "      <td>NO DEDUCIBLE</td>\n",
              "      <td>1.0</td>\n",
              "      <td>599.0</td>\n",
              "    </tr>\n",
              "    <tr>\n",
              "      <th>...</th>\n",
              "      <td>...</td>\n",
              "      <td>...</td>\n",
              "      <td>...</td>\n",
              "      <td>...</td>\n",
              "    </tr>\n",
              "    <tr>\n",
              "      <th>1496</th>\n",
              "      <td>2021-12-01</td>\n",
              "      <td>PUBLICIDAD</td>\n",
              "      <td>1.0</td>\n",
              "      <td>0.0</td>\n",
              "    </tr>\n",
              "    <tr>\n",
              "      <th>1497</th>\n",
              "      <td>2021-12-01</td>\n",
              "      <td>PUBLICIDAD</td>\n",
              "      <td>1.0</td>\n",
              "      <td>0.0</td>\n",
              "    </tr>\n",
              "    <tr>\n",
              "      <th>1498</th>\n",
              "      <td>2021-12-01</td>\n",
              "      <td>COMISION BANCARIA</td>\n",
              "      <td>1.0</td>\n",
              "      <td>1528.0</td>\n",
              "    </tr>\n",
              "    <tr>\n",
              "      <th>1499</th>\n",
              "      <td>2021-12-01</td>\n",
              "      <td>COMISION BANCARIA</td>\n",
              "      <td>1.0</td>\n",
              "      <td>0.0</td>\n",
              "    </tr>\n",
              "    <tr>\n",
              "      <th>1500</th>\n",
              "      <td>2021-12-01</td>\n",
              "      <td>GASOLINA</td>\n",
              "      <td>1.0</td>\n",
              "      <td>1528.0</td>\n",
              "    </tr>\n",
              "  </tbody>\n",
              "</table>\n",
              "<p>1501 rows × 4 columns</p>\n",
              "</div>\n",
              "      <button class=\"colab-df-convert\" onclick=\"convertToInteractive('df-3cfd7985-98a3-4491-910b-c91fe209c1be')\"\n",
              "              title=\"Convert this dataframe to an interactive table.\"\n",
              "              style=\"display:none;\">\n",
              "        \n",
              "  <svg xmlns=\"http://www.w3.org/2000/svg\" height=\"24px\"viewBox=\"0 0 24 24\"\n",
              "       width=\"24px\">\n",
              "    <path d=\"M0 0h24v24H0V0z\" fill=\"none\"/>\n",
              "    <path d=\"M18.56 5.44l.94 2.06.94-2.06 2.06-.94-2.06-.94-.94-2.06-.94 2.06-2.06.94zm-11 1L8.5 8.5l.94-2.06 2.06-.94-2.06-.94L8.5 2.5l-.94 2.06-2.06.94zm10 10l.94 2.06.94-2.06 2.06-.94-2.06-.94-.94-2.06-.94 2.06-2.06.94z\"/><path d=\"M17.41 7.96l-1.37-1.37c-.4-.4-.92-.59-1.43-.59-.52 0-1.04.2-1.43.59L10.3 9.45l-7.72 7.72c-.78.78-.78 2.05 0 2.83L4 21.41c.39.39.9.59 1.41.59.51 0 1.02-.2 1.41-.59l7.78-7.78 2.81-2.81c.8-.78.8-2.07 0-2.86zM5.41 20L4 18.59l7.72-7.72 1.47 1.35L5.41 20z\"/>\n",
              "  </svg>\n",
              "      </button>\n",
              "      \n",
              "  <style>\n",
              "    .colab-df-container {\n",
              "      display:flex;\n",
              "      flex-wrap:wrap;\n",
              "      gap: 12px;\n",
              "    }\n",
              "\n",
              "    .colab-df-convert {\n",
              "      background-color: #E8F0FE;\n",
              "      border: none;\n",
              "      border-radius: 50%;\n",
              "      cursor: pointer;\n",
              "      display: none;\n",
              "      fill: #1967D2;\n",
              "      height: 32px;\n",
              "      padding: 0 0 0 0;\n",
              "      width: 32px;\n",
              "    }\n",
              "\n",
              "    .colab-df-convert:hover {\n",
              "      background-color: #E2EBFA;\n",
              "      box-shadow: 0px 1px 2px rgba(60, 64, 67, 0.3), 0px 1px 3px 1px rgba(60, 64, 67, 0.15);\n",
              "      fill: #174EA6;\n",
              "    }\n",
              "\n",
              "    [theme=dark] .colab-df-convert {\n",
              "      background-color: #3B4455;\n",
              "      fill: #D2E3FC;\n",
              "    }\n",
              "\n",
              "    [theme=dark] .colab-df-convert:hover {\n",
              "      background-color: #434B5C;\n",
              "      box-shadow: 0px 1px 3px 1px rgba(0, 0, 0, 0.15);\n",
              "      filter: drop-shadow(0px 1px 2px rgba(0, 0, 0, 0.3));\n",
              "      fill: #FFFFFF;\n",
              "    }\n",
              "  </style>\n",
              "\n",
              "      <script>\n",
              "        const buttonEl =\n",
              "          document.querySelector('#df-3cfd7985-98a3-4491-910b-c91fe209c1be button.colab-df-convert');\n",
              "        buttonEl.style.display =\n",
              "          google.colab.kernel.accessAllowed ? 'block' : 'none';\n",
              "\n",
              "        async function convertToInteractive(key) {\n",
              "          const element = document.querySelector('#df-3cfd7985-98a3-4491-910b-c91fe209c1be');\n",
              "          const dataTable =\n",
              "            await google.colab.kernel.invokeFunction('convertToInteractive',\n",
              "                                                     [key], {});\n",
              "          if (!dataTable) return;\n",
              "\n",
              "          const docLinkHtml = 'Like what you see? Visit the ' +\n",
              "            '<a target=\"_blank\" href=https://colab.research.google.com/notebooks/data_table.ipynb>data table notebook</a>'\n",
              "            + ' to learn more about interactive tables.';\n",
              "          element.innerHTML = '';\n",
              "          dataTable['output_type'] = 'display_data';\n",
              "          await google.colab.output.renderOutput(dataTable, element);\n",
              "          const docLink = document.createElement('div');\n",
              "          docLink.innerHTML = docLinkHtml;\n",
              "          element.appendChild(docLink);\n",
              "        }\n",
              "      </script>\n",
              "    </div>\n",
              "  </div>\n",
              "  "
            ]
          },
          "metadata": {},
          "execution_count": 77
        }
      ]
    },
    {
      "cell_type": "code",
      "source": [
        "#Realizamos diagrama de caja o bigote de cada columna del dataframe\n",
        "fig = plt.figure(figsize =(15, 8))\n",
        "Datos_limpios1.plot(kind='box', vert=False)\n",
        "plt.title(\"Valores Atípicos del Dataframe\")\n",
        "plt.show()"
      ],
      "metadata": {
        "colab": {
          "base_uri": "https://localhost:8080/",
          "height": 470
        },
        "id": "ornq8d6_zgut",
        "outputId": "321399b9-8dba-491f-fa6e-1f544eef163e"
      },
      "execution_count": 78,
      "outputs": [
        {
          "output_type": "display_data",
          "data": {
            "text/plain": [
              "<Figure size 1500x800 with 0 Axes>"
            ]
          },
          "metadata": {}
        },
        {
          "output_type": "display_data",
          "data": {
            "text/plain": [
              "<Figure size 640x480 with 1 Axes>"
            ],
            "image/png": "[encoded data removed]"
          },
          "metadata": {}
        }
      ]
    },
    {
      "cell_type": "markdown",
      "source": [
        "## Año 2022"
      ],
      "metadata": {
        "id": "LUhYUj420UVj"
      }
    },
    {
      "cell_type": "code",
      "source": [
        "gc2.info()"
      ],
      "metadata": {
        "colab": {
          "base_uri": "https://localhost:8080/"
        },
        "id": "iRi3xPcr0WDb",
        "outputId": "9b3534d0-a99e-4c22-eeac-f26da79160ee"
      },
      "execution_count": 79,
      "outputs": [
        {
          "output_type": "stream",
          "name": "stdout",
          "text": [
            "<class 'pandas.core.frame.DataFrame'>\n",
            "RangeIndex: 1361 entries, 0 to 1360\n",
            "Data columns (total 5 columns):\n",
            " #   Column      Non-Null Count  Dtype  \n",
            "---  ------      --------------  -----  \n",
            " 0   Unnamed: 0  1361 non-null   int64  \n",
            " 1   Fecha       1361 non-null   object \n",
            " 2   TIPO GASTO  1361 non-null   object \n",
            " 3   TC          1361 non-null   float64\n",
            " 4   TOTAL SAT   1361 non-null   float64\n",
            "dtypes: float64(2), int64(1), object(2)\n",
            "memory usage: 53.3+ KB\n"
          ]
        }
      ]
    },
    {
      "cell_type": "code",
      "source": [
        "#Columnas numéricas\n",
        "X2=gc2.iloc[:,[3,4]]\n",
        "\n",
        "#Columnas objeto\n",
        "y2=gc2.iloc[:,[1,2]]"
      ],
      "metadata": {
        "id": "0u3xA_WN0Zv7"
      },
      "execution_count": 80,
      "outputs": []
    },
    {
      "cell_type": "code",
      "source": [
        "fig = plt.figure(figsize =(15, 8))\n",
        "X2.plot(kind='box', vert=False)\n",
        "plt.title(\"Valores Atípicos del Dataframe\")\n",
        "plt.show()"
      ],
      "metadata": {
        "colab": {
          "base_uri": "https://localhost:8080/",
          "height": 470
        },
        "id": "RNpdQKub0gXH",
        "outputId": "0f93efc7-eb95-49ac-e9ad-aa8e62667314"
      },
      "execution_count": 81,
      "outputs": [
        {
          "output_type": "display_data",
          "data": {
            "text/plain": [
              "<Figure size 1500x800 with 0 Axes>"
            ]
          },
          "metadata": {}
        },
        {
          "output_type": "display_data",
          "data": {
            "text/plain": [
              "<Figure size 640x480 with 1 Axes>"
            ],
            "image/png": "[encoded data removed]"
          },
          "metadata": {}
        }
      ]
    },
    {
      "cell_type": "markdown",
      "source": [
        "**Proceso de desviación estándar**"
      ],
      "metadata": {
        "id": "Y9VfENXJ0jQz"
      }
    },
    {
      "cell_type": "code",
      "source": [
        "y=X2\n",
        "Limite_Superior= y.mean() + 3*y.std()\n",
        "Limite_Inferior= y.mean() - 3*y.std()\n",
        "outliers= X2[(y>Limite_Superior)|(y<Limite_Inferior)]\n",
        "#Outliers como nulos\n",
        "X2_n= X2[(y<=Limite_Superior)&(y>=Limite_Inferior)]\n",
        "X2_n.isnull().sum()"
      ],
      "metadata": {
        "colab": {
          "base_uri": "https://localhost:8080/"
        },
        "id": "wO_Xn3MP0p1h",
        "outputId": "6420e1d3-9371-4964-9289-ab3a1c47353b"
      },
      "execution_count": 82,
      "outputs": [
        {
          "output_type": "execute_result",
          "data": {
            "text/plain": [
              "TC           15\n",
              "TOTAL SAT    18\n",
              "dtype: int64"
            ]
          },
          "metadata": {},
          "execution_count": 82
        }
      ]
    },
    {
      "cell_type": "code",
      "source": [
        "#Cambiamos los datos nulos (antes atípicos) por media\n",
        "X2_clean=X2_n.copy()\n",
        "X2_clean=X2_clean.fillna(round(X2_n.mean(),1))\n",
        "X2_clean.isnull().sum()"
      ],
      "metadata": {
        "colab": {
          "base_uri": "https://localhost:8080/"
        },
        "id": "5d0Vsu4k0wy7",
        "outputId": "c5f986d6-e8c0-4541-dc63-9f2720917e5b"
      },
      "execution_count": 83,
      "outputs": [
        {
          "output_type": "execute_result",
          "data": {
            "text/plain": [
              "TC           0\n",
              "TOTAL SAT    0\n",
              "dtype: int64"
            ]
          },
          "metadata": {},
          "execution_count": 83
        }
      ]
    },
    {
      "cell_type": "code",
      "source": [
        "Datos_limpios2d = pd.concat([y2, X2_clean], axis=1)\n",
        "Datos_limpios2d.to_csv('gastos_costos_2022_nulos_outliers_de.csv')\n",
        "Datos_limpios2d"
      ],
      "metadata": {
        "colab": {
          "base_uri": "https://localhost:8080/",
          "height": 423
        },
        "id": "ssydsXuh3QFo",
        "outputId": "2bc03bf4-1974-44d9-ae11-ea5f664a50f4"
      },
      "execution_count": 99,
      "outputs": [
        {
          "output_type": "execute_result",
          "data": {
            "text/plain": [
              "           Fecha                TIPO GASTO   TC  TOTAL SAT\n",
              "0     2022-01-01  ARRENDAMIENTO FINANCIERO  1.0    6439.60\n",
              "1     2022-01-01  ARRENDAMIENTO FINANCIERO  1.0    6440.30\n",
              "2     2022-01-01         COMISION BANCARIA  1.0       0.00\n",
              "3     2022-01-01              MTTO COMPUTO  1.0     417.60\n",
              "4     2022-01-01  ARRENDAMIENTO FINANCIERO  1.0       0.00\n",
              "...          ...                       ...  ...        ...\n",
              "1356  2022-12-01                PAQUETERIA  1.0    2105.19\n",
              "1357  2022-12-01              CAPACITACION  1.0       0.00\n",
              "1358  2022-12-01                  GASOLINA  1.0   11449.60\n",
              "1359  2022-12-01         COMISION BANCARIA  1.0       0.00\n",
              "1360  2022-12-01         COMISION BANCARIA  1.0   17826.62\n",
              "\n",
              "[1361 rows x 4 columns]"
            ],
            "text/html": [
              "\n",
              "  <div id=\"df-1cc2ac55-7cfc-4a17-9f5c-fbe873201cd5\">\n",
              "    <div class=\"colab-df-container\">\n",
              "      <div>\n",
              "<style scoped>\n",
              "    .dataframe tbody tr th:only-of-type {\n",
              "        vertical-align: middle;\n",
              "    }\n",
              "\n",
              "    .dataframe tbody tr th {\n",
              "        vertical-align: top;\n",
              "    }\n",
              "\n",
              "    .dataframe thead th {\n",
              "        text-align: right;\n",
              "    }\n",
              "</style>\n",
              "<table border=\"1\" class=\"dataframe\">\n",
              "  <thead>\n",
              "    <tr style=\"text-align: right;\">\n",
              "      <th></th>\n",
              "      <th>Fecha</th>\n",
              "      <th>TIPO GASTO</th>\n",
              "      <th>TC</th>\n",
              "      <th>TOTAL SAT</th>\n",
              "    </tr>\n",
              "  </thead>\n",
              "  <tbody>\n",
              "    <tr>\n",
              "      <th>0</th>\n",
              "      <td>2022-01-01</td>\n",
              "      <td>ARRENDAMIENTO FINANCIERO</td>\n",
              "      <td>1.0</td>\n",
              "      <td>6439.60</td>\n",
              "    </tr>\n",
              "    <tr>\n",
              "      <th>1</th>\n",
              "      <td>2022-01-01</td>\n",
              "      <td>ARRENDAMIENTO FINANCIERO</td>\n",
              "      <td>1.0</td>\n",
              "      <td>6440.30</td>\n",
              "    </tr>\n",
              "    <tr>\n",
              "      <th>2</th>\n",
              "      <td>2022-01-01</td>\n",
              "      <td>COMISION BANCARIA</td>\n",
              "      <td>1.0</td>\n",
              "      <td>0.00</td>\n",
              "    </tr>\n",
              "    <tr>\n",
              "      <th>3</th>\n",
              "      <td>2022-01-01</td>\n",
              "      <td>MTTO COMPUTO</td>\n",
              "      <td>1.0</td>\n",
              "      <td>417.60</td>\n",
              "    </tr>\n",
              "    <tr>\n",
              "      <th>4</th>\n",
              "      <td>2022-01-01</td>\n",
              "      <td>ARRENDAMIENTO FINANCIERO</td>\n",
              "      <td>1.0</td>\n",
              "      <td>0.00</td>\n",
              "    </tr>\n",
              "    <tr>\n",
              "      <th>...</th>\n",
              "      <td>...</td>\n",
              "      <td>...</td>\n",
              "      <td>...</td>\n",
              "      <td>...</td>\n",
              "    </tr>\n",
              "    <tr>\n",
              "      <th>1356</th>\n",
              "      <td>2022-12-01</td>\n",
              "      <td>PAQUETERIA</td>\n",
              "      <td>1.0</td>\n",
              "      <td>2105.19</td>\n",
              "    </tr>\n",
              "    <tr>\n",
              "      <th>1357</th>\n",
              "      <td>2022-12-01</td>\n",
              "      <td>CAPACITACION</td>\n",
              "      <td>1.0</td>\n",
              "      <td>0.00</td>\n",
              "    </tr>\n",
              "    <tr>\n",
              "      <th>1358</th>\n",
              "      <td>2022-12-01</td>\n",
              "      <td>GASOLINA</td>\n",
              "      <td>1.0</td>\n",
              "      <td>11449.60</td>\n",
              "    </tr>\n",
              "    <tr>\n",
              "      <th>1359</th>\n",
              "      <td>2022-12-01</td>\n",
              "      <td>COMISION BANCARIA</td>\n",
              "      <td>1.0</td>\n",
              "      <td>0.00</td>\n",
              "    </tr>\n",
              "    <tr>\n",
              "      <th>1360</th>\n",
              "      <td>2022-12-01</td>\n",
              "      <td>COMISION BANCARIA</td>\n",
              "      <td>1.0</td>\n",
              "      <td>17826.62</td>\n",
              "    </tr>\n",
              "  </tbody>\n",
              "</table>\n",
              "<p>1361 rows × 4 columns</p>\n",
              "</div>\n",
              "      <button class=\"colab-df-convert\" onclick=\"convertToInteractive('df-1cc2ac55-7cfc-4a17-9f5c-fbe873201cd5')\"\n",
              "              title=\"Convert this dataframe to an interactive table.\"\n",
              "              style=\"display:none;\">\n",
              "        \n",
              "  <svg xmlns=\"http://www.w3.org/2000/svg\" height=\"24px\"viewBox=\"0 0 24 24\"\n",
              "       width=\"24px\">\n",
              "    <path d=\"M0 0h24v24H0V0z\" fill=\"none\"/>\n",
              "    <path d=\"M18.56 5.44l.94 2.06.94-2.06 2.06-.94-2.06-.94-.94-2.06-.94 2.06-2.06.94zm-11 1L8.5 8.5l.94-2.06 2.06-.94-2.06-.94L8.5 2.5l-.94 2.06-2.06.94zm10 10l.94 2.06.94-2.06 2.06-.94-2.06-.94-.94-2.06-.94 2.06-2.06.94z\"/><path d=\"M17.41 7.96l-1.37-1.37c-.4-.4-.92-.59-1.43-.59-.52 0-1.04.2-1.43.59L10.3 9.45l-7.72 7.72c-.78.78-.78 2.05 0 2.83L4 21.41c.39.39.9.59 1.41.59.51 0 1.02-.2 1.41-.59l7.78-7.78 2.81-2.81c.8-.78.8-2.07 0-2.86zM5.41 20L4 18.59l7.72-7.72 1.47 1.35L5.41 20z\"/>\n",
              "  </svg>\n",
              "      </button>\n",
              "      \n",
              "  <style>\n",
              "    .colab-df-container {\n",
              "      display:flex;\n",
              "      flex-wrap:wrap;\n",
              "      gap: 12px;\n",
              "    }\n",
              "\n",
              "    .colab-df-convert {\n",
              "      background-color: #E8F0FE;\n",
              "      border: none;\n",
              "      border-radius: 50%;\n",
              "      cursor: pointer;\n",
              "      display: none;\n",
              "      fill: #1967D2;\n",
              "      height: 32px;\n",
              "      padding: 0 0 0 0;\n",
              "      width: 32px;\n",
              "    }\n",
              "\n",
              "    .colab-df-convert:hover {\n",
              "      background-color: #E2EBFA;\n",
              "      box-shadow: 0px 1px 2px rgba(60, 64, 67, 0.3), 0px 1px 3px 1px rgba(60, 64, 67, 0.15);\n",
              "      fill: #174EA6;\n",
              "    }\n",
              "\n",
              "    [theme=dark] .colab-df-convert {\n",
              "      background-color: #3B4455;\n",
              "      fill: #D2E3FC;\n",
              "    }\n",
              "\n",
              "    [theme=dark] .colab-df-convert:hover {\n",
              "      background-color: #434B5C;\n",
              "      box-shadow: 0px 1px 3px 1px rgba(0, 0, 0, 0.15);\n",
              "      filter: drop-shadow(0px 1px 2px rgba(0, 0, 0, 0.3));\n",
              "      fill: #FFFFFF;\n",
              "    }\n",
              "  </style>\n",
              "\n",
              "      <script>\n",
              "        const buttonEl =\n",
              "          document.querySelector('#df-1cc2ac55-7cfc-4a17-9f5c-fbe873201cd5 button.colab-df-convert');\n",
              "        buttonEl.style.display =\n",
              "          google.colab.kernel.accessAllowed ? 'block' : 'none';\n",
              "\n",
              "        async function convertToInteractive(key) {\n",
              "          const element = document.querySelector('#df-1cc2ac55-7cfc-4a17-9f5c-fbe873201cd5');\n",
              "          const dataTable =\n",
              "            await google.colab.kernel.invokeFunction('convertToInteractive',\n",
              "                                                     [key], {});\n",
              "          if (!dataTable) return;\n",
              "\n",
              "          const docLinkHtml = 'Like what you see? Visit the ' +\n",
              "            '<a target=\"_blank\" href=https://colab.research.google.com/notebooks/data_table.ipynb>data table notebook</a>'\n",
              "            + ' to learn more about interactive tables.';\n",
              "          element.innerHTML = '';\n",
              "          dataTable['output_type'] = 'display_data';\n",
              "          await google.colab.output.renderOutput(dataTable, element);\n",
              "          const docLink = document.createElement('div');\n",
              "          docLink.innerHTML = docLinkHtml;\n",
              "          element.appendChild(docLink);\n",
              "        }\n",
              "      </script>\n",
              "    </div>\n",
              "  </div>\n",
              "  "
            ]
          },
          "metadata": {},
          "execution_count": 99
        }
      ]
    },
    {
      "cell_type": "markdown",
      "source": [
        "**Proceso Intercuartílico**"
      ],
      "metadata": {
        "id": "g1q88-ut00SD"
      }
    },
    {
      "cell_type": "code",
      "source": [
        "#Método aplicando Cuartiles. Encuentro cuartiles 0.25 y 0.75\n",
        "y=X2\n",
        "percentile25=y.quantile(0.25) #Q1\n",
        "percentile75=y.quantile(0.75) #Q3\n",
        "iqr= percentile75 - percentile25\n",
        "Limite_Superior_iqr= percentile75 + 1.5*iqr\n",
        "Limite_Inferior_iqr= percentile25 - 1.5*iqr\n",
        "outliers_iqr= X2[(y>Limite_Superior_iqr)|(y<Limite_Inferior_iqr)]\n",
        "#Obtenemos datos limpios del Dataframe\n",
        "X2_iqr= X2[(y<=Limite_Superior_iqr)&(y>=Limite_Inferior_iqr)]\n",
        "X2_iqr.isnull().sum()"
      ],
      "metadata": {
        "colab": {
          "base_uri": "https://localhost:8080/"
        },
        "id": "UujXHjsw05Xa",
        "outputId": "02b0cca9-796b-4834-ab3e-4ef47b0aca31"
      },
      "execution_count": 84,
      "outputs": [
        {
          "output_type": "execute_result",
          "data": {
            "text/plain": [
              "TC            15\n",
              "TOTAL SAT    192\n",
              "dtype: int64"
            ]
          },
          "metadata": {},
          "execution_count": 84
        }
      ]
    },
    {
      "cell_type": "code",
      "source": [
        "#Reemplazamos valores nulos (atípicos) con la media\n",
        "X2_iqr2=X2_iqr.copy()\n",
        "X2_iqr2=X2_iqr2.fillna(round(X2_iqr.mean(),1))\n",
        "X2_iqr2.isnull().sum()"
      ],
      "metadata": {
        "colab": {
          "base_uri": "https://localhost:8080/"
        },
        "id": "a1hkN5Yp0-70",
        "outputId": "15536ff8-6472-455e-8c82-bb94ec8c440d"
      },
      "execution_count": 85,
      "outputs": [
        {
          "output_type": "execute_result",
          "data": {
            "text/plain": [
              "TC           0\n",
              "TOTAL SAT    0\n",
              "dtype: int64"
            ]
          },
          "metadata": {},
          "execution_count": 85
        }
      ]
    },
    {
      "cell_type": "code",
      "source": [
        "Datos_limpios2 = pd.concat([y2, X2_iqr2], axis=1)\n",
        "Datos_limpios2.to_csv('gastos_costos_2022_nulos_outliers.csv')\n",
        "Datos_limpios2"
      ],
      "metadata": {
        "colab": {
          "base_uri": "https://localhost:8080/",
          "height": 423
        },
        "id": "23hEg5OV1NAs",
        "outputId": "75140b0d-cfd3-4cbb-d49e-ab39e57b298d"
      },
      "execution_count": 86,
      "outputs": [
        {
          "output_type": "execute_result",
          "data": {
            "text/plain": [
              "           Fecha                TIPO GASTO   TC  TOTAL SAT\n",
              "0     2022-01-01  ARRENDAMIENTO FINANCIERO  1.0    6439.60\n",
              "1     2022-01-01  ARRENDAMIENTO FINANCIERO  1.0    6440.30\n",
              "2     2022-01-01         COMISION BANCARIA  1.0       0.00\n",
              "3     2022-01-01              MTTO COMPUTO  1.0     417.60\n",
              "4     2022-01-01  ARRENDAMIENTO FINANCIERO  1.0       0.00\n",
              "...          ...                       ...  ...        ...\n",
              "1356  2022-12-01                PAQUETERIA  1.0    2105.19\n",
              "1357  2022-12-01              CAPACITACION  1.0       0.00\n",
              "1358  2022-12-01                  GASOLINA  1.0    1444.70\n",
              "1359  2022-12-01         COMISION BANCARIA  1.0       0.00\n",
              "1360  2022-12-01         COMISION BANCARIA  1.0    1444.70\n",
              "\n",
              "[1361 rows x 4 columns]"
            ],
            "text/html": [
              "\n",
              "  <div id=\"df-a28a70b9-4356-4916-9ddf-918fcfddef17\">\n",
              "    <div class=\"colab-df-container\">\n",
              "      <div>\n",
              "<style scoped>\n",
              "    .dataframe tbody tr th:only-of-type {\n",
              "        vertical-align: middle;\n",
              "    }\n",
              "\n",
              "    .dataframe tbody tr th {\n",
              "        vertical-align: top;\n",
              "    }\n",
              "\n",
              "    .dataframe thead th {\n",
              "        text-align: right;\n",
              "    }\n",
              "</style>\n",
              "<table border=\"1\" class=\"dataframe\">\n",
              "  <thead>\n",
              "    <tr style=\"text-align: right;\">\n",
              "      <th></th>\n",
              "      <th>Fecha</th>\n",
              "      <th>TIPO GASTO</th>\n",
              "      <th>TC</th>\n",
              "      <th>TOTAL SAT</th>\n",
              "    </tr>\n",
              "  </thead>\n",
              "  <tbody>\n",
              "    <tr>\n",
              "      <th>0</th>\n",
              "      <td>2022-01-01</td>\n",
              "      <td>ARRENDAMIENTO FINANCIERO</td>\n",
              "      <td>1.0</td>\n",
              "      <td>6439.60</td>\n",
              "    </tr>\n",
              "    <tr>\n",
              "      <th>1</th>\n",
              "      <td>2022-01-01</td>\n",
              "      <td>ARRENDAMIENTO FINANCIERO</td>\n",
              "      <td>1.0</td>\n",
              "      <td>6440.30</td>\n",
              "    </tr>\n",
              "    <tr>\n",
              "      <th>2</th>\n",
              "      <td>2022-01-01</td>\n",
              "      <td>COMISION BANCARIA</td>\n",
              "      <td>1.0</td>\n",
              "      <td>0.00</td>\n",
              "    </tr>\n",
              "    <tr>\n",
              "      <th>3</th>\n",
              "      <td>2022-01-01</td>\n",
              "      <td>MTTO COMPUTO</td>\n",
              "      <td>1.0</td>\n",
              "      <td>417.60</td>\n",
              "    </tr>\n",
              "    <tr>\n",
              "      <th>4</th>\n",
              "      <td>2022-01-01</td>\n",
              "      <td>ARRENDAMIENTO FINANCIERO</td>\n",
              "      <td>1.0</td>\n",
              "      <td>0.00</td>\n",
              "    </tr>\n",
              "    <tr>\n",
              "      <th>...</th>\n",
              "      <td>...</td>\n",
              "      <td>...</td>\n",
              "      <td>...</td>\n",
              "      <td>...</td>\n",
              "    </tr>\n",
              "    <tr>\n",
              "      <th>1356</th>\n",
              "      <td>2022-12-01</td>\n",
              "      <td>PAQUETERIA</td>\n",
              "      <td>1.0</td>\n",
              "      <td>2105.19</td>\n",
              "    </tr>\n",
              "    <tr>\n",
              "      <th>1357</th>\n",
              "      <td>2022-12-01</td>\n",
              "      <td>CAPACITACION</td>\n",
              "      <td>1.0</td>\n",
              "      <td>0.00</td>\n",
              "    </tr>\n",
              "    <tr>\n",
              "      <th>1358</th>\n",
              "      <td>2022-12-01</td>\n",
              "      <td>GASOLINA</td>\n",
              "      <td>1.0</td>\n",
              "      <td>1444.70</td>\n",
              "    </tr>\n",
              "    <tr>\n",
              "      <th>1359</th>\n",
              "      <td>2022-12-01</td>\n",
              "      <td>COMISION BANCARIA</td>\n",
              "      <td>1.0</td>\n",
              "      <td>0.00</td>\n",
              "    </tr>\n",
              "    <tr>\n",
              "      <th>1360</th>\n",
              "      <td>2022-12-01</td>\n",
              "      <td>COMISION BANCARIA</td>\n",
              "      <td>1.0</td>\n",
              "      <td>1444.70</td>\n",
              "    </tr>\n",
              "  </tbody>\n",
              "</table>\n",
              "<p>1361 rows × 4 columns</p>\n",
              "</div>\n",
              "      <button class=\"colab-df-convert\" onclick=\"convertToInteractive('df-a28a70b9-4356-4916-9ddf-918fcfddef17')\"\n",
              "              title=\"Convert this dataframe to an interactive table.\"\n",
              "              style=\"display:none;\">\n",
              "        \n",
              "  <svg xmlns=\"http://www.w3.org/2000/svg\" height=\"24px\"viewBox=\"0 0 24 24\"\n",
              "       width=\"24px\">\n",
              "    <path d=\"M0 0h24v24H0V0z\" fill=\"none\"/>\n",
              "    <path d=\"M18.56 5.44l.94 2.06.94-2.06 2.06-.94-2.06-.94-.94-2.06-.94 2.06-2.06.94zm-11 1L8.5 8.5l.94-2.06 2.06-.94-2.06-.94L8.5 2.5l-.94 2.06-2.06.94zm10 10l.94 2.06.94-2.06 2.06-.94-2.06-.94-.94-2.06-.94 2.06-2.06.94z\"/><path d=\"M17.41 7.96l-1.37-1.37c-.4-.4-.92-.59-1.43-.59-.52 0-1.04.2-1.43.59L10.3 9.45l-7.72 7.72c-.78.78-.78 2.05 0 2.83L4 21.41c.39.39.9.59 1.41.59.51 0 1.02-.2 1.41-.59l7.78-7.78 2.81-2.81c.8-.78.8-2.07 0-2.86zM5.41 20L4 18.59l7.72-7.72 1.47 1.35L5.41 20z\"/>\n",
              "  </svg>\n",
              "      </button>\n",
              "      \n",
              "  <style>\n",
              "    .colab-df-container {\n",
              "      display:flex;\n",
              "      flex-wrap:wrap;\n",
              "      gap: 12px;\n",
              "    }\n",
              "\n",
              "    .colab-df-convert {\n",
              "      background-color: #E8F0FE;\n",
              "      border: none;\n",
              "      border-radius: 50%;\n",
              "      cursor: pointer;\n",
              "      display: none;\n",
              "      fill: #1967D2;\n",
              "      height: 32px;\n",
              "      padding: 0 0 0 0;\n",
              "      width: 32px;\n",
              "    }\n",
              "\n",
              "    .colab-df-convert:hover {\n",
              "      background-color: #E2EBFA;\n",
              "      box-shadow: 0px 1px 2px rgba(60, 64, 67, 0.3), 0px 1px 3px 1px rgba(60, 64, 67, 0.15);\n",
              "      fill: #174EA6;\n",
              "    }\n",
              "\n",
              "    [theme=dark] .colab-df-convert {\n",
              "      background-color: #3B4455;\n",
              "      fill: #D2E3FC;\n",
              "    }\n",
              "\n",
              "    [theme=dark] .colab-df-convert:hover {\n",
              "      background-color: #434B5C;\n",
              "      box-shadow: 0px 1px 3px 1px rgba(0, 0, 0, 0.15);\n",
              "      filter: drop-shadow(0px 1px 2px rgba(0, 0, 0, 0.3));\n",
              "      fill: #FFFFFF;\n",
              "    }\n",
              "  </style>\n",
              "\n",
              "      <script>\n",
              "        const buttonEl =\n",
              "          document.querySelector('#df-a28a70b9-4356-4916-9ddf-918fcfddef17 button.colab-df-convert');\n",
              "        buttonEl.style.display =\n",
              "          google.colab.kernel.accessAllowed ? 'block' : 'none';\n",
              "\n",
              "        async function convertToInteractive(key) {\n",
              "          const element = document.querySelector('#df-a28a70b9-4356-4916-9ddf-918fcfddef17');\n",
              "          const dataTable =\n",
              "            await google.colab.kernel.invokeFunction('convertToInteractive',\n",
              "                                                     [key], {});\n",
              "          if (!dataTable) return;\n",
              "\n",
              "          const docLinkHtml = 'Like what you see? Visit the ' +\n",
              "            '<a target=\"_blank\" href=https://colab.research.google.com/notebooks/data_table.ipynb>data table notebook</a>'\n",
              "            + ' to learn more about interactive tables.';\n",
              "          element.innerHTML = '';\n",
              "          dataTable['output_type'] = 'display_data';\n",
              "          await google.colab.output.renderOutput(dataTable, element);\n",
              "          const docLink = document.createElement('div');\n",
              "          docLink.innerHTML = docLinkHtml;\n",
              "          element.appendChild(docLink);\n",
              "        }\n",
              "      </script>\n",
              "    </div>\n",
              "  </div>\n",
              "  "
            ]
          },
          "metadata": {},
          "execution_count": 86
        }
      ]
    },
    {
      "cell_type": "code",
      "source": [
        "fig = plt.figure(figsize =(15, 8))\n",
        "Datos_limpios1.plot(kind='box', vert=False)\n",
        "plt.title(\"Valores Atípicos del Dataframe\")\n",
        "plt.show()"
      ],
      "metadata": {
        "colab": {
          "base_uri": "https://localhost:8080/",
          "height": 470
        },
        "id": "sRC6N-nk1QTt",
        "outputId": "e287ebf7-42c2-45ca-dd4d-89d6c75b2b19"
      },
      "execution_count": 87,
      "outputs": [
        {
          "output_type": "display_data",
          "data": {
            "text/plain": [
              "<Figure size 1500x800 with 0 Axes>"
            ]
          },
          "metadata": {}
        },
        {
          "output_type": "display_data",
          "data": {
            "text/plain": [
              "<Figure size 640x480 with 1 Axes>"
            ],
            "image/png": "[encoded data removed]"
          },
          "metadata": {}
        }
      ]
    },
    {
      "cell_type": "markdown",
      "source": [
        "## Año 2023"
      ],
      "metadata": {
        "id": "xXjUZnoT1ULy"
      }
    },
    {
      "cell_type": "code",
      "source": [
        "gc3.info()"
      ],
      "metadata": {
        "colab": {
          "base_uri": "https://localhost:8080/"
        },
        "id": "nM_5ghob1V-V",
        "outputId": "e10d29b8-cd03-4c2b-83d7-46ad68a0cf7b"
      },
      "execution_count": 88,
      "outputs": [
        {
          "output_type": "stream",
          "name": "stdout",
          "text": [
            "<class 'pandas.core.frame.DataFrame'>\n",
            "RangeIndex: 192 entries, 0 to 191\n",
            "Data columns (total 5 columns):\n",
            " #   Column      Non-Null Count  Dtype  \n",
            "---  ------      --------------  -----  \n",
            " 0   Unnamed: 0  192 non-null    int64  \n",
            " 1   Fecha       192 non-null    object \n",
            " 2   TIPO GASTO  192 non-null    object \n",
            " 3   TC          192 non-null    float64\n",
            " 4   TOTAL SAT   192 non-null    float64\n",
            "dtypes: float64(2), int64(1), object(2)\n",
            "memory usage: 7.6+ KB\n"
          ]
        }
      ]
    },
    {
      "cell_type": "code",
      "source": [
        "#Columnas numéricas\n",
        "X3=gc3.iloc[:,[3,4]]\n",
        "\n",
        "#Columnas objeto\n",
        "y3=gc3.iloc[:,[1,2]]"
      ],
      "metadata": {
        "id": "5paOE6Ov1ZE_"
      },
      "execution_count": 89,
      "outputs": []
    },
    {
      "cell_type": "code",
      "source": [
        "fig = plt.figure(figsize =(15, 8))\n",
        "X3.plot(kind='box', vert=False)\n",
        "plt.title(\"Valores Atípicos del Dataframe\")\n",
        "plt.show()"
      ],
      "metadata": {
        "colab": {
          "base_uri": "https://localhost:8080/",
          "height": 470
        },
        "id": "TV6DR1eQ1egE",
        "outputId": "488638f5-1894-4af0-ad91-42b0c1cc319c"
      },
      "execution_count": 90,
      "outputs": [
        {
          "output_type": "display_data",
          "data": {
            "text/plain": [
              "<Figure size 1500x800 with 0 Axes>"
            ]
          },
          "metadata": {}
        },
        {
          "output_type": "display_data",
          "data": {
            "text/plain": [
              "<Figure size 640x480 with 1 Axes>"
            ],
            "image/png": "[encoded data removed]"
          },
          "metadata": {}
        }
      ]
    },
    {
      "cell_type": "markdown",
      "source": [
        "**Proceso de desviación estándar**"
      ],
      "metadata": {
        "id": "_PzcdnQ_1kB_"
      }
    },
    {
      "cell_type": "code",
      "source": [
        "y=X3\n",
        "Limite_Superior= y.mean() + 3*y.std()\n",
        "Limite_Inferior= y.mean() - 3*y.std()\n",
        "outliers= X3[(y>Limite_Superior)|(y<Limite_Inferior)]\n",
        "#Outliers como nulos\n",
        "X3_n= X3[(y<=Limite_Superior)&(y>=Limite_Inferior)]\n",
        "X3_n.isnull().sum()"
      ],
      "metadata": {
        "colab": {
          "base_uri": "https://localhost:8080/"
        },
        "id": "zpflER591plA",
        "outputId": "670ec0c8-3f7d-4025-b159-14842d030319"
      },
      "execution_count": 91,
      "outputs": [
        {
          "output_type": "execute_result",
          "data": {
            "text/plain": [
              "TC           2\n",
              "TOTAL SAT    3\n",
              "dtype: int64"
            ]
          },
          "metadata": {},
          "execution_count": 91
        }
      ]
    },
    {
      "cell_type": "code",
      "source": [
        "#Cambiamos los datos nulos (antes atípicos) por media\n",
        "X3_clean=X3_n.copy()\n",
        "X3_clean=X3_clean.fillna(round(X3_n.mean(),1))\n",
        "X3_clean.isnull().sum()"
      ],
      "metadata": {
        "colab": {
          "base_uri": "https://localhost:8080/"
        },
        "id": "4ZrXLHiY1wtq",
        "outputId": "0199d1c9-30b8-4d9e-9300-3fbbb8aee9d9"
      },
      "execution_count": 92,
      "outputs": [
        {
          "output_type": "execute_result",
          "data": {
            "text/plain": [
              "TC           0\n",
              "TOTAL SAT    0\n",
              "dtype: int64"
            ]
          },
          "metadata": {},
          "execution_count": 92
        }
      ]
    },
    {
      "cell_type": "code",
      "source": [
        "Datos_limpios3d = pd.concat([y3, X3_clean], axis=1)\n",
        "Datos_limpios3d.to_csv('gastos_costos_2023_nulos_outliers_de.csv')\n",
        "Datos_limpios3d"
      ],
      "metadata": {
        "colab": {
          "base_uri": "https://localhost:8080/",
          "height": 423
        },
        "id": "IlUFm9pO3WeY",
        "outputId": "fd3d8e14-93b0-47db-acc4-7c939379963d"
      },
      "execution_count": 100,
      "outputs": [
        {
          "output_type": "execute_result",
          "data": {
            "text/plain": [
              "          Fecha                TIPO GASTO   TC  TOTAL SAT\n",
              "0    2023-01-01  ARRENDAMIENTO FINANCIERO  1.0    6439.60\n",
              "1    2023-01-01  ARRENDAMIENTO FINANCIERO  1.0    6440.30\n",
              "2    2023-01-01  ARRENDAMIENTO FINANCIERO  1.0    9807.07\n",
              "3    2023-01-01         COMISION BANCARIA  1.0     568.40\n",
              "4    2023-01-01         COMISION BANCARIA  1.0       0.00\n",
              "..          ...                       ...  ...        ...\n",
              "187  2023-02-01            GERENCIA ADMON  1.0   28600.00\n",
              "188  2023-02-01         COMISION BANCARIA  1.0       0.00\n",
              "189  2023-02-01                 ALIMENTOS  1.0     220.00\n",
              "190  2023-02-01         COMISION BANCARIA  1.0   18753.92\n",
              "191  2023-02-01                  GASOLINA  1.0   14472.32\n",
              "\n",
              "[192 rows x 4 columns]"
            ],
            "text/html": [
              "\n",
              "  <div id=\"df-e4b61621-5f09-4aaa-b587-1d4bc42184c1\">\n",
              "    <div class=\"colab-df-container\">\n",
              "      <div>\n",
              "<style scoped>\n",
              "    .dataframe tbody tr th:only-of-type {\n",
              "        vertical-align: middle;\n",
              "    }\n",
              "\n",
              "    .dataframe tbody tr th {\n",
              "        vertical-align: top;\n",
              "    }\n",
              "\n",
              "    .dataframe thead th {\n",
              "        text-align: right;\n",
              "    }\n",
              "</style>\n",
              "<table border=\"1\" class=\"dataframe\">\n",
              "  <thead>\n",
              "    <tr style=\"text-align: right;\">\n",
              "      <th></th>\n",
              "      <th>Fecha</th>\n",
              "      <th>TIPO GASTO</th>\n",
              "      <th>TC</th>\n",
              "      <th>TOTAL SAT</th>\n",
              "    </tr>\n",
              "  </thead>\n",
              "  <tbody>\n",
              "    <tr>\n",
              "      <th>0</th>\n",
              "      <td>2023-01-01</td>\n",
              "      <td>ARRENDAMIENTO FINANCIERO</td>\n",
              "      <td>1.0</td>\n",
              "      <td>6439.60</td>\n",
              "    </tr>\n",
              "    <tr>\n",
              "      <th>1</th>\n",
              "      <td>2023-01-01</td>\n",
              "      <td>ARRENDAMIENTO FINANCIERO</td>\n",
              "      <td>1.0</td>\n",
              "      <td>6440.30</td>\n",
              "    </tr>\n",
              "    <tr>\n",
              "      <th>2</th>\n",
              "      <td>2023-01-01</td>\n",
              "      <td>ARRENDAMIENTO FINANCIERO</td>\n",
              "      <td>1.0</td>\n",
              "      <td>9807.07</td>\n",
              "    </tr>\n",
              "    <tr>\n",
              "      <th>3</th>\n",
              "      <td>2023-01-01</td>\n",
              "      <td>COMISION BANCARIA</td>\n",
              "      <td>1.0</td>\n",
              "      <td>568.40</td>\n",
              "    </tr>\n",
              "    <tr>\n",
              "      <th>4</th>\n",
              "      <td>2023-01-01</td>\n",
              "      <td>COMISION BANCARIA</td>\n",
              "      <td>1.0</td>\n",
              "      <td>0.00</td>\n",
              "    </tr>\n",
              "    <tr>\n",
              "      <th>...</th>\n",
              "      <td>...</td>\n",
              "      <td>...</td>\n",
              "      <td>...</td>\n",
              "      <td>...</td>\n",
              "    </tr>\n",
              "    <tr>\n",
              "      <th>187</th>\n",
              "      <td>2023-02-01</td>\n",
              "      <td>GERENCIA ADMON</td>\n",
              "      <td>1.0</td>\n",
              "      <td>28600.00</td>\n",
              "    </tr>\n",
              "    <tr>\n",
              "      <th>188</th>\n",
              "      <td>2023-02-01</td>\n",
              "      <td>COMISION BANCARIA</td>\n",
              "      <td>1.0</td>\n",
              "      <td>0.00</td>\n",
              "    </tr>\n",
              "    <tr>\n",
              "      <th>189</th>\n",
              "      <td>2023-02-01</td>\n",
              "      <td>ALIMENTOS</td>\n",
              "      <td>1.0</td>\n",
              "      <td>220.00</td>\n",
              "    </tr>\n",
              "    <tr>\n",
              "      <th>190</th>\n",
              "      <td>2023-02-01</td>\n",
              "      <td>COMISION BANCARIA</td>\n",
              "      <td>1.0</td>\n",
              "      <td>18753.92</td>\n",
              "    </tr>\n",
              "    <tr>\n",
              "      <th>191</th>\n",
              "      <td>2023-02-01</td>\n",
              "      <td>GASOLINA</td>\n",
              "      <td>1.0</td>\n",
              "      <td>14472.32</td>\n",
              "    </tr>\n",
              "  </tbody>\n",
              "</table>\n",
              "<p>192 rows × 4 columns</p>\n",
              "</div>\n",
              "      <button class=\"colab-df-convert\" onclick=\"convertToInteractive('df-e4b61621-5f09-4aaa-b587-1d4bc42184c1')\"\n",
              "              title=\"Convert this dataframe to an interactive table.\"\n",
              "              style=\"display:none;\">\n",
              "        \n",
              "  <svg xmlns=\"http://www.w3.org/2000/svg\" height=\"24px\"viewBox=\"0 0 24 24\"\n",
              "       width=\"24px\">\n",
              "    <path d=\"M0 0h24v24H0V0z\" fill=\"none\"/>\n",
              "    <path d=\"M18.56 5.44l.94 2.06.94-2.06 2.06-.94-2.06-.94-.94-2.06-.94 2.06-2.06.94zm-11 1L8.5 8.5l.94-2.06 2.06-.94-2.06-.94L8.5 2.5l-.94 2.06-2.06.94zm10 10l.94 2.06.94-2.06 2.06-.94-2.06-.94-.94-2.06-.94 2.06-2.06.94z\"/><path d=\"M17.41 7.96l-1.37-1.37c-.4-.4-.92-.59-1.43-.59-.52 0-1.04.2-1.43.59L10.3 9.45l-7.72 7.72c-.78.78-.78 2.05 0 2.83L4 21.41c.39.39.9.59 1.41.59.51 0 1.02-.2 1.41-.59l7.78-7.78 2.81-2.81c.8-.78.8-2.07 0-2.86zM5.41 20L4 18.59l7.72-7.72 1.47 1.35L5.41 20z\"/>\n",
              "  </svg>\n",
              "      </button>\n",
              "      \n",
              "  <style>\n",
              "    .colab-df-container {\n",
              "      display:flex;\n",
              "      flex-wrap:wrap;\n",
              "      gap: 12px;\n",
              "    }\n",
              "\n",
              "    .colab-df-convert {\n",
              "      background-color: #E8F0FE;\n",
              "      border: none;\n",
              "      border-radius: 50%;\n",
              "      cursor: pointer;\n",
              "      display: none;\n",
              "      fill: #1967D2;\n",
              "      height: 32px;\n",
              "      padding: 0 0 0 0;\n",
              "      width: 32px;\n",
              "    }\n",
              "\n",
              "    .colab-df-convert:hover {\n",
              "      background-color: #E2EBFA;\n",
              "      box-shadow: 0px 1px 2px rgba(60, 64, 67, 0.3), 0px 1px 3px 1px rgba(60, 64, 67, 0.15);\n",
              "      fill: #174EA6;\n",
              "    }\n",
              "\n",
              "    [theme=dark] .colab-df-convert {\n",
              "      background-color: #3B4455;\n",
              "      fill: #D2E3FC;\n",
              "    }\n",
              "\n",
              "    [theme=dark] .colab-df-convert:hover {\n",
              "      background-color: #434B5C;\n",
              "      box-shadow: 0px 1px 3px 1px rgba(0, 0, 0, 0.15);\n",
              "      filter: drop-shadow(0px 1px 2px rgba(0, 0, 0, 0.3));\n",
              "      fill: #FFFFFF;\n",
              "    }\n",
              "  </style>\n",
              "\n",
              "      <script>\n",
              "        const buttonEl =\n",
              "          document.querySelector('#df-e4b61621-5f09-4aaa-b587-1d4bc42184c1 button.colab-df-convert');\n",
              "        buttonEl.style.display =\n",
              "          google.colab.kernel.accessAllowed ? 'block' : 'none';\n",
              "\n",
              "        async function convertToInteractive(key) {\n",
              "          const element = document.querySelector('#df-e4b61621-5f09-4aaa-b587-1d4bc42184c1');\n",
              "          const dataTable =\n",
              "            await google.colab.kernel.invokeFunction('convertToInteractive',\n",
              "                                                     [key], {});\n",
              "          if (!dataTable) return;\n",
              "\n",
              "          const docLinkHtml = 'Like what you see? Visit the ' +\n",
              "            '<a target=\"_blank\" href=https://colab.research.google.com/notebooks/data_table.ipynb>data table notebook</a>'\n",
              "            + ' to learn more about interactive tables.';\n",
              "          element.innerHTML = '';\n",
              "          dataTable['output_type'] = 'display_data';\n",
              "          await google.colab.output.renderOutput(dataTable, element);\n",
              "          const docLink = document.createElement('div');\n",
              "          docLink.innerHTML = docLinkHtml;\n",
              "          element.appendChild(docLink);\n",
              "        }\n",
              "      </script>\n",
              "    </div>\n",
              "  </div>\n",
              "  "
            ]
          },
          "metadata": {},
          "execution_count": 100
        }
      ]
    },
    {
      "cell_type": "markdown",
      "source": [
        "**Proceso intercuartílico**"
      ],
      "metadata": {
        "id": "Ooz7SHFU1ztV"
      }
    },
    {
      "cell_type": "code",
      "source": [
        "#Método aplicando Cuartiles. Encuentro cuartiles 0.25 y 0.75\n",
        "y=X3\n",
        "percentile25=y.quantile(0.25) #Q1\n",
        "percentile75=y.quantile(0.75) #Q3\n",
        "iqr= percentile75 - percentile25\n",
        "Limite_Superior_iqr= percentile75 + 1.5*iqr\n",
        "Limite_Inferior_iqr= percentile25 - 1.5*iqr\n",
        "outliers_iqr= X3[(y>Limite_Superior_iqr)|(y<Limite_Inferior_iqr)]\n",
        "#Obtenemos datos limpios del Dataframe\n",
        "X3_iqr= X3[(y<=Limite_Superior_iqr)&(y>=Limite_Inferior_iqr)]\n",
        "X3_iqr.isnull().sum()"
      ],
      "metadata": {
        "colab": {
          "base_uri": "https://localhost:8080/"
        },
        "id": "QAWKNX-J18s3",
        "outputId": "9e74c899-dab8-4476-c5db-5582129e2138"
      },
      "execution_count": 93,
      "outputs": [
        {
          "output_type": "execute_result",
          "data": {
            "text/plain": [
              "TC            2\n",
              "TOTAL SAT    24\n",
              "dtype: int64"
            ]
          },
          "metadata": {},
          "execution_count": 93
        }
      ]
    },
    {
      "cell_type": "code",
      "source": [
        "#Reemplazamos valores nulos (atípicos) con la media\n",
        "X3_iqr2=X3_iqr.copy()\n",
        "X3_iqr2=X3_iqr2.fillna(round(X3_iqr.mean(),1))\n",
        "X3_iqr2.isnull().sum()"
      ],
      "metadata": {
        "colab": {
          "base_uri": "https://localhost:8080/"
        },
        "id": "PRwCaHTS2Cz5",
        "outputId": "741837d5-f335-4754-9f33-17f7874b1ca0"
      },
      "execution_count": 94,
      "outputs": [
        {
          "output_type": "execute_result",
          "data": {
            "text/plain": [
              "TC           0\n",
              "TOTAL SAT    0\n",
              "dtype: int64"
            ]
          },
          "metadata": {},
          "execution_count": 94
        }
      ]
    },
    {
      "cell_type": "code",
      "source": [
        "Datos_limpios3 = pd.concat([y3, X3_iqr2], axis=1)\n",
        "Datos_limpios3.to_csv('gastos_costos_2023_nulos_outliers.csv')\n",
        "Datos_limpios3"
      ],
      "metadata": {
        "colab": {
          "base_uri": "https://localhost:8080/",
          "height": 423
        },
        "id": "bOKN6n7h2GQu",
        "outputId": "504db818-f85f-45d0-e6f5-57d50535620c"
      },
      "execution_count": 95,
      "outputs": [
        {
          "output_type": "execute_result",
          "data": {
            "text/plain": [
              "          Fecha                TIPO GASTO   TC  TOTAL SAT\n",
              "0    2023-01-01  ARRENDAMIENTO FINANCIERO  1.0     6439.6\n",
              "1    2023-01-01  ARRENDAMIENTO FINANCIERO  1.0     6440.3\n",
              "2    2023-01-01  ARRENDAMIENTO FINANCIERO  1.0     1504.0\n",
              "3    2023-01-01         COMISION BANCARIA  1.0      568.4\n",
              "4    2023-01-01         COMISION BANCARIA  1.0        0.0\n",
              "..          ...                       ...  ...        ...\n",
              "187  2023-02-01            GERENCIA ADMON  1.0     1504.0\n",
              "188  2023-02-01         COMISION BANCARIA  1.0        0.0\n",
              "189  2023-02-01                 ALIMENTOS  1.0      220.0\n",
              "190  2023-02-01         COMISION BANCARIA  1.0     1504.0\n",
              "191  2023-02-01                  GASOLINA  1.0     1504.0\n",
              "\n",
              "[192 rows x 4 columns]"
            ],
            "text/html": [
              "\n",
              "  <div id=\"df-55e00695-e23e-4c98-ae79-77449af3355a\">\n",
              "    <div class=\"colab-df-container\">\n",
              "      <div>\n",
              "<style scoped>\n",
              "    .dataframe tbody tr th:only-of-type {\n",
              "        vertical-align: middle;\n",
              "    }\n",
              "\n",
              "    .dataframe tbody tr th {\n",
              "        vertical-align: top;\n",
              "    }\n",
              "\n",
              "    .dataframe thead th {\n",
              "        text-align: right;\n",
              "    }\n",
              "</style>\n",
              "<table border=\"1\" class=\"dataframe\">\n",
              "  <thead>\n",
              "    <tr style=\"text-align: right;\">\n",
              "      <th></th>\n",
              "      <th>Fecha</th>\n",
              "      <th>TIPO GASTO</th>\n",
              "      <th>TC</th>\n",
              "      <th>TOTAL SAT</th>\n",
              "    </tr>\n",
              "  </thead>\n",
              "  <tbody>\n",
              "    <tr>\n",
              "      <th>0</th>\n",
              "      <td>2023-01-01</td>\n",
              "      <td>ARRENDAMIENTO FINANCIERO</td>\n",
              "      <td>1.0</td>\n",
              "      <td>6439.6</td>\n",
              "    </tr>\n",
              "    <tr>\n",
              "      <th>1</th>\n",
              "      <td>2023-01-01</td>\n",
              "      <td>ARRENDAMIENTO FINANCIERO</td>\n",
              "      <td>1.0</td>\n",
              "      <td>6440.3</td>\n",
              "    </tr>\n",
              "    <tr>\n",
              "      <th>2</th>\n",
              "      <td>2023-01-01</td>\n",
              "      <td>ARRENDAMIENTO FINANCIERO</td>\n",
              "      <td>1.0</td>\n",
              "      <td>1504.0</td>\n",
              "    </tr>\n",
              "    <tr>\n",
              "      <th>3</th>\n",
              "      <td>2023-01-01</td>\n",
              "      <td>COMISION BANCARIA</td>\n",
              "      <td>1.0</td>\n",
              "      <td>568.4</td>\n",
              "    </tr>\n",
              "    <tr>\n",
              "      <th>4</th>\n",
              "      <td>2023-01-01</td>\n",
              "      <td>COMISION BANCARIA</td>\n",
              "      <td>1.0</td>\n",
              "      <td>0.0</td>\n",
              "    </tr>\n",
              "    <tr>\n",
              "      <th>...</th>\n",
              "      <td>...</td>\n",
              "      <td>...</td>\n",
              "      <td>...</td>\n",
              "      <td>...</td>\n",
              "    </tr>\n",
              "    <tr>\n",
              "      <th>187</th>\n",
              "      <td>2023-02-01</td>\n",
              "      <td>GERENCIA ADMON</td>\n",
              "      <td>1.0</td>\n",
              "      <td>1504.0</td>\n",
              "    </tr>\n",
              "    <tr>\n",
              "      <th>188</th>\n",
              "      <td>2023-02-01</td>\n",
              "      <td>COMISION BANCARIA</td>\n",
              "      <td>1.0</td>\n",
              "      <td>0.0</td>\n",
              "    </tr>\n",
              "    <tr>\n",
              "      <th>189</th>\n",
              "      <td>2023-02-01</td>\n",
              "      <td>ALIMENTOS</td>\n",
              "      <td>1.0</td>\n",
              "      <td>220.0</td>\n",
              "    </tr>\n",
              "    <tr>\n",
              "      <th>190</th>\n",
              "      <td>2023-02-01</td>\n",
              "      <td>COMISION BANCARIA</td>\n",
              "      <td>1.0</td>\n",
              "      <td>1504.0</td>\n",
              "    </tr>\n",
              "    <tr>\n",
              "      <th>191</th>\n",
              "      <td>2023-02-01</td>\n",
              "      <td>GASOLINA</td>\n",
              "      <td>1.0</td>\n",
              "      <td>1504.0</td>\n",
              "    </tr>\n",
              "  </tbody>\n",
              "</table>\n",
              "<p>192 rows × 4 columns</p>\n",
              "</div>\n",
              "      <button class=\"colab-df-convert\" onclick=\"convertToInteractive('df-55e00695-e23e-4c98-ae79-77449af3355a')\"\n",
              "              title=\"Convert this dataframe to an interactive table.\"\n",
              "              style=\"display:none;\">\n",
              "        \n",
              "  <svg xmlns=\"http://www.w3.org/2000/svg\" height=\"24px\"viewBox=\"0 0 24 24\"\n",
              "       width=\"24px\">\n",
              "    <path d=\"M0 0h24v24H0V0z\" fill=\"none\"/>\n",
              "    <path d=\"M18.56 5.44l.94 2.06.94-2.06 2.06-.94-2.06-.94-.94-2.06-.94 2.06-2.06.94zm-11 1L8.5 8.5l.94-2.06 2.06-.94-2.06-.94L8.5 2.5l-.94 2.06-2.06.94zm10 10l.94 2.06.94-2.06 2.06-.94-2.06-.94-.94-2.06-.94 2.06-2.06.94z\"/><path d=\"M17.41 7.96l-1.37-1.37c-.4-.4-.92-.59-1.43-.59-.52 0-1.04.2-1.43.59L10.3 9.45l-7.72 7.72c-.78.78-.78 2.05 0 2.83L4 21.41c.39.39.9.59 1.41.59.51 0 1.02-.2 1.41-.59l7.78-7.78 2.81-2.81c.8-.78.8-2.07 0-2.86zM5.41 20L4 18.59l7.72-7.72 1.47 1.35L5.41 20z\"/>\n",
              "  </svg>\n",
              "      </button>\n",
              "      \n",
              "  <style>\n",
              "    .colab-df-container {\n",
              "      display:flex;\n",
              "      flex-wrap:wrap;\n",
              "      gap: 12px;\n",
              "    }\n",
              "\n",
              "    .colab-df-convert {\n",
              "      background-color: #E8F0FE;\n",
              "      border: none;\n",
              "      border-radius: 50%;\n",
              "      cursor: pointer;\n",
              "      display: none;\n",
              "      fill: #1967D2;\n",
              "      height: 32px;\n",
              "      padding: 0 0 0 0;\n",
              "      width: 32px;\n",
              "    }\n",
              "\n",
              "    .colab-df-convert:hover {\n",
              "      background-color: #E2EBFA;\n",
              "      box-shadow: 0px 1px 2px rgba(60, 64, 67, 0.3), 0px 1px 3px 1px rgba(60, 64, 67, 0.15);\n",
              "      fill: #174EA6;\n",
              "    }\n",
              "\n",
              "    [theme=dark] .colab-df-convert {\n",
              "      background-color: #3B4455;\n",
              "      fill: #D2E3FC;\n",
              "    }\n",
              "\n",
              "    [theme=dark] .colab-df-convert:hover {\n",
              "      background-color: #434B5C;\n",
              "      box-shadow: 0px 1px 3px 1px rgba(0, 0, 0, 0.15);\n",
              "      filter: drop-shadow(0px 1px 2px rgba(0, 0, 0, 0.3));\n",
              "      fill: #FFFFFF;\n",
              "    }\n",
              "  </style>\n",
              "\n",
              "      <script>\n",
              "        const buttonEl =\n",
              "          document.querySelector('#df-55e00695-e23e-4c98-ae79-77449af3355a button.colab-df-convert');\n",
              "        buttonEl.style.display =\n",
              "          google.colab.kernel.accessAllowed ? 'block' : 'none';\n",
              "\n",
              "        async function convertToInteractive(key) {\n",
              "          const element = document.querySelector('#df-55e00695-e23e-4c98-ae79-77449af3355a');\n",
              "          const dataTable =\n",
              "            await google.colab.kernel.invokeFunction('convertToInteractive',\n",
              "                                                     [key], {});\n",
              "          if (!dataTable) return;\n",
              "\n",
              "          const docLinkHtml = 'Like what you see? Visit the ' +\n",
              "            '<a target=\"_blank\" href=https://colab.research.google.com/notebooks/data_table.ipynb>data table notebook</a>'\n",
              "            + ' to learn more about interactive tables.';\n",
              "          element.innerHTML = '';\n",
              "          dataTable['output_type'] = 'display_data';\n",
              "          await google.colab.output.renderOutput(dataTable, element);\n",
              "          const docLink = document.createElement('div');\n",
              "          docLink.innerHTML = docLinkHtml;\n",
              "          element.appendChild(docLink);\n",
              "        }\n",
              "      </script>\n",
              "    </div>\n",
              "  </div>\n",
              "  "
            ]
          },
          "metadata": {},
          "execution_count": 95
        }
      ]
    },
    {
      "cell_type": "code",
      "source": [
        "fig = plt.figure(figsize =(15, 8))\n",
        "Datos_limpios3.plot(kind='box', vert=False)\n",
        "plt.title(\"Valores Atípicos del Dataframe\")\n",
        "plt.show()"
      ],
      "metadata": {
        "colab": {
          "base_uri": "https://localhost:8080/",
          "height": 470
        },
        "id": "66hzd6E32LyZ",
        "outputId": "d7ac2519-7848-4095-a864-1c8d0407d62b"
      },
      "execution_count": 96,
      "outputs": [
        {
          "output_type": "display_data",
          "data": {
            "text/plain": [
              "<Figure size 1500x800 with 0 Axes>"
            ]
          },
          "metadata": {}
        },
        {
          "output_type": "display_data",
          "data": {
            "text/plain": [
              "<Figure size 640x480 with 1 Axes>"
            ],
            "image/png": "[encoded data removed]"
          },
          "metadata": {}
        }
      ]
    }
  ]
}